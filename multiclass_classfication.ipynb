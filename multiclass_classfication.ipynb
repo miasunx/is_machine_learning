{
 "cells": [
  {
   "cell_type": "code",
   "execution_count": 1,
   "metadata": {
    "id": "_0lDkFZq3ohI"
   },
   "outputs": [
    {
     "name": "stderr",
     "output_type": "stream",
     "text": [
      "UsageError: Line magic function `%tensorflow_version` not found.\n"
     ]
    }
   ],
   "source": [
    "%tensorflow_version 2.8.0\n",
    "%matplotlib inline\n",
    "import warnings\n",
    "warnings.filterwarnings('ignore')\n",
    "\n",
    "import tensorflow as tf\n",
    "tf.autograph.set_verbosity(0)\n",
    "\n",
    "import keras\n",
    "keras.__version__\n",
    "\n",
    "import numpy as np"
   ]
  },
  {
   "cell_type": "code",
   "execution_count": 2,
   "metadata": {},
   "outputs": [
    {
     "name": "stdout",
     "output_type": "stream",
     "text": [
      "Requirement already satisfied: tensorflow==2.8.0 in /opt/anaconda3/lib/python3.9/site-packages (2.8.0)\n",
      "Requirement already satisfied: gast>=0.2.1 in /opt/anaconda3/lib/python3.9/site-packages (from tensorflow==2.8.0) (0.5.3)\n",
      "Requirement already satisfied: h5py>=2.9.0 in /opt/anaconda3/lib/python3.9/site-packages (from tensorflow==2.8.0) (3.2.1)\n",
      "Requirement already satisfied: google-pasta>=0.1.1 in /opt/anaconda3/lib/python3.9/site-packages (from tensorflow==2.8.0) (0.2.0)\n",
      "Requirement already satisfied: opt-einsum>=2.3.2 in /opt/anaconda3/lib/python3.9/site-packages (from tensorflow==2.8.0) (3.3.0)\n",
      "Requirement already satisfied: numpy>=1.20 in /opt/anaconda3/lib/python3.9/site-packages (from tensorflow==2.8.0) (1.20.3)\n",
      "Requirement already satisfied: absl-py>=0.4.0 in /opt/anaconda3/lib/python3.9/site-packages (from tensorflow==2.8.0) (1.0.0)\n",
      "Requirement already satisfied: six>=1.12.0 in /opt/anaconda3/lib/python3.9/site-packages (from tensorflow==2.8.0) (1.16.0)\n",
      "Requirement already satisfied: typing-extensions>=3.6.6 in /opt/anaconda3/lib/python3.9/site-packages (from tensorflow==2.8.0) (3.10.0.2)\n",
      "Requirement already satisfied: tensorboard<2.9,>=2.8 in /opt/anaconda3/lib/python3.9/site-packages (from tensorflow==2.8.0) (2.8.0)\n",
      "Requirement already satisfied: astunparse>=1.6.0 in /opt/anaconda3/lib/python3.9/site-packages (from tensorflow==2.8.0) (1.6.3)\n",
      "Requirement already satisfied: flatbuffers>=1.12 in /opt/anaconda3/lib/python3.9/site-packages (from tensorflow==2.8.0) (2.0)\n",
      "Requirement already satisfied: setuptools in /opt/anaconda3/lib/python3.9/site-packages (from tensorflow==2.8.0) (58.0.4)\n",
      "Requirement already satisfied: termcolor>=1.1.0 in /opt/anaconda3/lib/python3.9/site-packages (from tensorflow==2.8.0) (1.1.0)\n",
      "Requirement already satisfied: libclang>=9.0.1 in /opt/anaconda3/lib/python3.9/site-packages (from tensorflow==2.8.0) (13.0.0)\n",
      "Requirement already satisfied: protobuf>=3.9.2 in /opt/anaconda3/lib/python3.9/site-packages (from tensorflow==2.8.0) (3.19.4)\n",
      "Requirement already satisfied: keras-preprocessing>=1.1.1 in /opt/anaconda3/lib/python3.9/site-packages (from tensorflow==2.8.0) (1.1.2)\n",
      "Requirement already satisfied: keras<2.9,>=2.8.0rc0 in /opt/anaconda3/lib/python3.9/site-packages (from tensorflow==2.8.0) (2.8.0)\n",
      "Requirement already satisfied: tensorflow-io-gcs-filesystem>=0.23.1 in /opt/anaconda3/lib/python3.9/site-packages (from tensorflow==2.8.0) (0.24.0)\n",
      "Requirement already satisfied: wrapt>=1.11.0 in /opt/anaconda3/lib/python3.9/site-packages (from tensorflow==2.8.0) (1.12.1)\n",
      "Requirement already satisfied: tf-estimator-nightly==2.8.0.dev2021122109 in /opt/anaconda3/lib/python3.9/site-packages (from tensorflow==2.8.0) (2.8.0.dev2021122109)\n",
      "Requirement already satisfied: grpcio<2.0,>=1.24.3 in /opt/anaconda3/lib/python3.9/site-packages (from tensorflow==2.8.0) (1.44.0)\n",
      "Requirement already satisfied: wheel<1.0,>=0.23.0 in /opt/anaconda3/lib/python3.9/site-packages (from astunparse>=1.6.0->tensorflow==2.8.0) (0.37.0)\n",
      "Requirement already satisfied: tensorboard-plugin-wit>=1.6.0 in /opt/anaconda3/lib/python3.9/site-packages (from tensorboard<2.9,>=2.8->tensorflow==2.8.0) (1.8.1)\n",
      "Requirement already satisfied: werkzeug>=0.11.15 in /opt/anaconda3/lib/python3.9/site-packages (from tensorboard<2.9,>=2.8->tensorflow==2.8.0) (2.0.2)\n",
      "Requirement already satisfied: google-auth-oauthlib<0.5,>=0.4.1 in /opt/anaconda3/lib/python3.9/site-packages (from tensorboard<2.9,>=2.8->tensorflow==2.8.0) (0.4.6)\n",
      "Requirement already satisfied: tensorboard-data-server<0.7.0,>=0.6.0 in /opt/anaconda3/lib/python3.9/site-packages (from tensorboard<2.9,>=2.8->tensorflow==2.8.0) (0.6.1)\n",
      "Requirement already satisfied: requests<3,>=2.21.0 in /opt/anaconda3/lib/python3.9/site-packages (from tensorboard<2.9,>=2.8->tensorflow==2.8.0) (2.26.0)\n",
      "Requirement already satisfied: google-auth<3,>=1.6.3 in /opt/anaconda3/lib/python3.9/site-packages (from tensorboard<2.9,>=2.8->tensorflow==2.8.0) (2.6.0)\n",
      "Requirement already satisfied: markdown>=2.6.8 in /opt/anaconda3/lib/python3.9/site-packages (from tensorboard<2.9,>=2.8->tensorflow==2.8.0) (3.3.6)\n",
      "Requirement already satisfied: pyasn1-modules>=0.2.1 in /opt/anaconda3/lib/python3.9/site-packages (from google-auth<3,>=1.6.3->tensorboard<2.9,>=2.8->tensorflow==2.8.0) (0.2.8)\n",
      "Requirement already satisfied: cachetools<6.0,>=2.0.0 in /opt/anaconda3/lib/python3.9/site-packages (from google-auth<3,>=1.6.3->tensorboard<2.9,>=2.8->tensorflow==2.8.0) (5.0.0)\n",
      "Requirement already satisfied: rsa<5,>=3.1.4 in /opt/anaconda3/lib/python3.9/site-packages (from google-auth<3,>=1.6.3->tensorboard<2.9,>=2.8->tensorflow==2.8.0) (4.8)\n",
      "Requirement already satisfied: requests-oauthlib>=0.7.0 in /opt/anaconda3/lib/python3.9/site-packages (from google-auth-oauthlib<0.5,>=0.4.1->tensorboard<2.9,>=2.8->tensorflow==2.8.0) (1.3.1)\n",
      "Requirement already satisfied: importlib-metadata>=4.4 in /opt/anaconda3/lib/python3.9/site-packages (from markdown>=2.6.8->tensorboard<2.9,>=2.8->tensorflow==2.8.0) (4.8.1)\n",
      "Requirement already satisfied: zipp>=0.5 in /opt/anaconda3/lib/python3.9/site-packages (from importlib-metadata>=4.4->markdown>=2.6.8->tensorboard<2.9,>=2.8->tensorflow==2.8.0) (3.6.0)\n",
      "Requirement already satisfied: pyasn1<0.5.0,>=0.4.6 in /opt/anaconda3/lib/python3.9/site-packages (from pyasn1-modules>=0.2.1->google-auth<3,>=1.6.3->tensorboard<2.9,>=2.8->tensorflow==2.8.0) (0.4.8)\n",
      "Requirement already satisfied: idna<4,>=2.5 in /opt/anaconda3/lib/python3.9/site-packages (from requests<3,>=2.21.0->tensorboard<2.9,>=2.8->tensorflow==2.8.0) (3.2)\n",
      "Requirement already satisfied: charset-normalizer~=2.0.0 in /opt/anaconda3/lib/python3.9/site-packages (from requests<3,>=2.21.0->tensorboard<2.9,>=2.8->tensorflow==2.8.0) (2.0.4)\n",
      "Requirement already satisfied: certifi>=2017.4.17 in /opt/anaconda3/lib/python3.9/site-packages (from requests<3,>=2.21.0->tensorboard<2.9,>=2.8->tensorflow==2.8.0) (2021.10.8)\n",
      "Requirement already satisfied: urllib3<1.27,>=1.21.1 in /opt/anaconda3/lib/python3.9/site-packages (from requests<3,>=2.21.0->tensorboard<2.9,>=2.8->tensorflow==2.8.0) (1.26.7)\n",
      "Requirement already satisfied: oauthlib>=3.0.0 in /opt/anaconda3/lib/python3.9/site-packages (from requests-oauthlib>=0.7.0->google-auth-oauthlib<0.5,>=0.4.1->tensorboard<2.9,>=2.8->tensorflow==2.8.0) (3.2.0)\n",
      "Note: you may need to restart the kernel to use updated packages.\n"
     ]
    }
   ],
   "source": [
    "pip install tensorflow==2.8.0"
   ]
  },
  {
   "cell_type": "markdown",
   "metadata": {
    "id": "bu5jf9gW3ohR"
   },
   "source": [
    "# Classifying newswires: a multi-class classification example\n",
    "\n",
    "In this homework, we will build a network to classify Reuters newswires into 46 different mutually-exclusive topics. Since we have many \n",
    "classes, this problem is an instance of \"multi-class classification\", and since each data point should be classified into only one \n",
    "category, the problem is more specifically an instance of \"single-label, multi-class classification\"."
   ]
  },
  {
   "cell_type": "markdown",
   "metadata": {
    "id": "_-s49gXW3ohT"
   },
   "source": [
    "## The Reuters dataset\n",
    "\n",
    "\n",
    "We will be working with the _Reuters dataset_, a set of short newswires and their topics, published by Reuters in 1986. It's a very simple, \n",
    "widely used toy dataset for text classification. There are 46 different topics; some topics are more represented than others, but each \n",
    "topic has at least 10 examples in the training set.\n",
    "\n",
    "Like IMDB and MNIST, the Reuters dataset comes packaged as part of Keras. Let's take a look right away:"
   ]
  },
  {
   "cell_type": "code",
   "execution_count": 50,
   "metadata": {
    "id": "yjSiBNZS3ohU"
   },
   "outputs": [],
   "source": [
    "from keras.datasets import reuters\n",
    "\n",
    "(train_data, train_labels), (test_data, test_labels) = reuters.load_data(num_words=10000)"
   ]
  },
  {
   "cell_type": "markdown",
   "metadata": {
    "id": "-VRrIjNI3ohX"
   },
   "source": [
    "\n",
    "Like with the IMDB dataset, the argument `num_words=10000` restricts the data to the 10,000 most frequently occurring words found in the \n",
    "data.\n",
    "\n",
    "We have 8,982 training examples and 2,246 test examples:"
   ]
  },
  {
   "cell_type": "markdown",
   "metadata": {
    "id": "FMdiLzvF3ohf"
   },
   "source": [
    "As with the IMDB reviews, each example is a list of integers (word indices):"
   ]
  },
  {
   "cell_type": "code",
   "execution_count": 51,
   "metadata": {
    "id": "QriVgMSe3ohg"
   },
   "outputs": [
    {
     "data": {
      "text/plain": [
       "array([list([1, 2, 2, 8, 43, 10, 447, 5, 25, 207, 270, 5, 3095, 111, 16, 369, 186, 90, 67, 7, 89, 5, 19, 102, 6, 19, 124, 15, 90, 67, 84, 22, 482, 26, 7, 48, 4, 49, 8, 864, 39, 209, 154, 6, 151, 6, 83, 11, 15, 22, 155, 11, 15, 7, 48, 9, 4579, 1005, 504, 6, 258, 6, 272, 11, 15, 22, 134, 44, 11, 15, 16, 8, 197, 1245, 90, 67, 52, 29, 209, 30, 32, 132, 6, 109, 15, 17, 12])],\n",
       "      dtype=object)"
      ]
     },
     "execution_count": 51,
     "metadata": {},
     "output_type": "execute_result"
    }
   ],
   "source": [
    "train_data[:1]"
   ]
  },
  {
   "cell_type": "markdown",
   "metadata": {
    "id": "kIvaOPin3ohj"
   },
   "source": [
    "Here's how you can decode it back to words, in case you are curious:"
   ]
  },
  {
   "cell_type": "code",
   "execution_count": 52,
   "metadata": {
    "id": "EZg6ME3Y3ohk"
   },
   "outputs": [
    {
     "name": "stdout",
     "output_type": "stream",
     "text": [
      "The decoded text:? ? ? said as a result of its december acquisition of space co it expects earnings per share in 1987 of 1 15 to 1 30 dlrs per share up from 70 cts in 1986 the company said pretax net should rise to nine to 10 mln dlrs from six mln dlrs in 1986 and rental operation revenues to 19 to 22 mln dlrs from 12 5 mln dlrs it said cash flow per share this year should be 2 50 to three dlrs reuter 3\n"
     ]
    }
   ],
   "source": [
    "word_index = reuters.get_word_index()\n",
    "inverted_word_index = dict((i, word) for (word, i) in word_index.items())\n",
    "# Note that our indices were offset by 3\n",
    "# because 0, 1 and 2 are reserved indices for \"padding\", \"start of sequence\", and \"unknown\".\n",
    "decoded_newswire = ' '.join([inverted_word_index.get(i - 3, '?') for i in train_data[0]])\n",
    "\n",
    "print(\"The decoded text:\" + decoded_newswire)"
   ]
  },
  {
   "cell_type": "markdown",
   "metadata": {
    "id": "yntI1JS33oho"
   },
   "source": [
    "The label associated with an example is an integer between 0 and 45: a topic index."
   ]
  },
  {
   "cell_type": "code",
   "execution_count": 53,
   "metadata": {
    "id": "swMqUzqz3ohq"
   },
   "outputs": [
    {
     "data": {
      "text/plain": [
       "array([ 3,  4,  3,  4,  4,  4,  4,  3,  3, 16])"
      ]
     },
     "execution_count": 53,
     "metadata": {},
     "output_type": "execute_result"
    }
   ],
   "source": [
    "train_labels[:10]"
   ]
  },
  {
   "cell_type": "markdown",
   "metadata": {
    "id": "fsLn40NK3oht"
   },
   "source": [
    "## Preparing the data\n",
    "\n",
    "We can vectorize the data with the exact same code as in our previous example:"
   ]
  },
  {
   "cell_type": "code",
   "execution_count": 54,
   "metadata": {
    "id": "NDol7z_43ohu"
   },
   "outputs": [],
   "source": [
    "import numpy as np\n",
    "\n",
    "def vectorize_sequences(sequences, dimension=10000):\n",
    "    results = np.zeros((len(sequences), dimension))\n",
    "    for i, sequence in enumerate(sequences):\n",
    "        results[i, sequence] = 1.\n",
    "    return results\n",
    "\n",
    "# Our vectorized training data\n",
    "x_train = vectorize_sequences(train_data)\n",
    "# Our vectorized test data\n",
    "x_test = vectorize_sequences(test_data)"
   ]
  },
  {
   "cell_type": "markdown",
   "metadata": {
    "id": "9pte7Qr63ohv"
   },
   "source": [
    "\n",
    "Use \"one-hot\" encoding to vectorize the labels. One-hot encoding is a widely used format for categorical data, also called \"categorical encoding\". In our case, one-hot encoding of our labels consists in embedding each label as an all-zero vector with a 1 in the place of the label index. Note that there is a built-in way to do this in Keras."
   ]
  },
  {
   "cell_type": "code",
   "execution_count": 55,
   "metadata": {
    "id": "XO_SmjOD3ohy"
   },
   "outputs": [],
   "source": [
    "from keras.utils.np_utils import to_categorical\n",
    "\n",
    "one_hot_train_labels = to_categorical(train_labels)\n",
    "one_hot_test_labels = to_categorical(test_labels)"
   ]
  },
  {
   "cell_type": "markdown",
   "metadata": {
    "id": "rMvTFcc03ohz"
   },
   "source": [
    "## Building our network\n",
    "\n",
    "\n",
    "This topic classification problem looks very similar to our previous movie review classification problem: in both cases, we are trying to \n",
    "classify short snippets of text. There is however a new constraint here: the number of output classes has gone from 2 to 46, i.e. the \n",
    "dimensionality of the output space is much larger. \n",
    "\n",
    "In a stack of `Dense` layers like what we were using, each layer can only access information present in the output of the previous layer. \n",
    "If one layer drops some information relevant to the classification problem, this information can never be recovered by later layers: each \n",
    "layer can potentially become an \"information bottleneck\". In our previous example, we were using 16-dimensional intermediate layers, but a \n",
    "16-dimensional space may be too limited to learn to separate 46 different classes: such small layers may act as information bottlenecks, \n",
    "permanently dropping relevant information.\n",
    "\n",
    "For this reason we will use larger layers. Let's go with 64 units:"
   ]
  },
  {
   "cell_type": "code",
   "execution_count": 56,
   "metadata": {
    "id": "HdhwRTjx3ohz"
   },
   "outputs": [],
   "source": [
    "from keras import models\n",
    "from keras import layers\n",
    "\n",
    "model = models.Sequential()\n",
    "model.add(layers.Dense(64, activation='relu', input_shape=(10000,)))\n",
    "model.add(layers.Dense(64, activation='relu'))\n",
    "model.add(layers.Dense(46, activation='softmax'))"
   ]
  },
  {
   "cell_type": "markdown",
   "metadata": {
    "id": "V-Aj666N3oh1"
   },
   "source": [
    "\n",
    "There are two other things you should note about this architecture:\n",
    "\n",
    "* We are ending the network with a `Dense` layer of size 46. This means that for each input sample, our network will output a \n",
    "46-dimensional vector. Each entry in this vector (each dimension) will encode a different output class.\n",
    "* The last layer uses a `softmax` activation. You have already seen this pattern in the MNIST example. It means that the network will \n",
    "output a _probability distribution_ over the 46 different output classes, i.e. for every input sample, the network will produce a \n",
    "46-dimensional output vector where `output[i]` is the probability that the sample belongs to class `i`. The 46 scores will sum to 1.\n",
    "\n",
    "The best loss function to use in this case is `categorical_crossentropy`. It measures the distance between two probability distributions: \n",
    "in our case, between the probability distribution output by our network, and the true distribution of the labels. By minimizing the \n",
    "distance between these two distributions, we train our network to output something as close as possible to the true labels."
   ]
  },
  {
   "cell_type": "code",
   "execution_count": 57,
   "metadata": {
    "id": "AhmA6zNZ3oh1"
   },
   "outputs": [],
   "source": [
    "model.compile(optimizer='rmsprop',\n",
    "              loss='categorical_crossentropy',\n",
    "              metrics=['accuracy'])"
   ]
  },
  {
   "cell_type": "markdown",
   "metadata": {
    "id": "TGB_cp8B3oh2"
   },
   "source": [
    "## Validating our approach\n",
    "\n",
    "Let's set apart 1,000 samples in our training data to use as a validation set:"
   ]
  },
  {
   "cell_type": "code",
   "execution_count": 58,
   "metadata": {
    "id": "Y3eyzgOA3oh2"
   },
   "outputs": [],
   "source": [
    "x_val = x_train[:1000]\n",
    "partial_x_train = x_train[1000:]\n",
    "\n",
    "y_val = one_hot_train_labels[:1000]\n",
    "partial_y_train = one_hot_train_labels[1000:]"
   ]
  },
  {
   "cell_type": "markdown",
   "metadata": {
    "id": "vIFUZkt43oh3"
   },
   "source": [
    "Now let's train our network for 20 epochs:"
   ]
  },
  {
   "cell_type": "code",
   "execution_count": 59,
   "metadata": {
    "id": "MM57jbod3oh3"
   },
   "outputs": [
    {
     "name": "stdout",
     "output_type": "stream",
     "text": [
      "Epoch 1/20\n",
      "16/16 [==============================] - 1s 25ms/step - loss: 2.5840 - accuracy: 0.4977 - val_loss: 1.7491 - val_accuracy: 0.6350\n",
      "Epoch 2/20\n",
      "16/16 [==============================] - 0s 15ms/step - loss: 1.4418 - accuracy: 0.7008 - val_loss: 1.3158 - val_accuracy: 0.7160\n",
      "Epoch 3/20\n",
      "16/16 [==============================] - 0s 15ms/step - loss: 1.0601 - accuracy: 0.7721 - val_loss: 1.1408 - val_accuracy: 0.7550\n",
      "Epoch 4/20\n",
      "16/16 [==============================] - 0s 15ms/step - loss: 0.8341 - accuracy: 0.8218 - val_loss: 1.0330 - val_accuracy: 0.7820\n",
      "Epoch 5/20\n",
      "16/16 [==============================] - 0s 15ms/step - loss: 0.6664 - accuracy: 0.8593 - val_loss: 0.9672 - val_accuracy: 0.7970\n",
      "Epoch 6/20\n",
      "16/16 [==============================] - 0s 15ms/step - loss: 0.5370 - accuracy: 0.8886 - val_loss: 0.9240 - val_accuracy: 0.8110\n",
      "Epoch 7/20\n",
      "16/16 [==============================] - 0s 15ms/step - loss: 0.4333 - accuracy: 0.9098 - val_loss: 0.8988 - val_accuracy: 0.8120\n",
      "Epoch 8/20\n",
      "16/16 [==============================] - 0s 15ms/step - loss: 0.3536 - accuracy: 0.9255 - val_loss: 0.9125 - val_accuracy: 0.8060\n",
      "Epoch 9/20\n",
      "16/16 [==============================] - 0s 15ms/step - loss: 0.2906 - accuracy: 0.9394 - val_loss: 0.9264 - val_accuracy: 0.8110\n",
      "Epoch 10/20\n",
      "16/16 [==============================] - 0s 16ms/step - loss: 0.2497 - accuracy: 0.9425 - val_loss: 0.9200 - val_accuracy: 0.8220\n",
      "Epoch 11/20\n",
      "16/16 [==============================] - 0s 15ms/step - loss: 0.2153 - accuracy: 0.9476 - val_loss: 0.9195 - val_accuracy: 0.8190\n",
      "Epoch 12/20\n",
      "16/16 [==============================] - 0s 15ms/step - loss: 0.1881 - accuracy: 0.9524 - val_loss: 0.9513 - val_accuracy: 0.8150\n",
      "Epoch 13/20\n",
      "16/16 [==============================] - 0s 15ms/step - loss: 0.1676 - accuracy: 0.9534 - val_loss: 0.9839 - val_accuracy: 0.8180\n",
      "Epoch 14/20\n",
      "16/16 [==============================] - 0s 16ms/step - loss: 0.1537 - accuracy: 0.9541 - val_loss: 0.9757 - val_accuracy: 0.8140\n",
      "Epoch 15/20\n",
      "16/16 [==============================] - 0s 15ms/step - loss: 0.1419 - accuracy: 0.9560 - val_loss: 1.0609 - val_accuracy: 0.7930\n",
      "Epoch 16/20\n",
      "16/16 [==============================] - 0s 15ms/step - loss: 0.1370 - accuracy: 0.9567 - val_loss: 1.0137 - val_accuracy: 0.8090\n",
      "Epoch 17/20\n",
      "16/16 [==============================] - 0s 15ms/step - loss: 0.1244 - accuracy: 0.9572 - val_loss: 1.0594 - val_accuracy: 0.8030\n",
      "Epoch 18/20\n",
      "16/16 [==============================] - 0s 15ms/step - loss: 0.1192 - accuracy: 0.9577 - val_loss: 1.0741 - val_accuracy: 0.7980\n",
      "Epoch 19/20\n",
      "16/16 [==============================] - 0s 16ms/step - loss: 0.1178 - accuracy: 0.9565 - val_loss: 1.0721 - val_accuracy: 0.8030\n",
      "Epoch 20/20\n",
      "16/16 [==============================] - 0s 15ms/step - loss: 0.1177 - accuracy: 0.9565 - val_loss: 1.0471 - val_accuracy: 0.8080\n"
     ]
    }
   ],
   "source": [
    "history= model.fit(partial_x_train,\n",
    "                   partial_y_train,\n",
    "                   epochs=20,\n",
    "                   batch_size=512,\n",
    "                   validation_data=(x_val, y_val))"
   ]
  },
  {
   "cell_type": "markdown",
   "metadata": {
    "id": "Rq5P0gWQ3oh5"
   },
   "source": [
    "Let's display its loss and accuracy curves to help identify when it starts to overfit."
   ]
  },
  {
   "cell_type": "code",
   "execution_count": 60,
   "metadata": {
    "id": "EIRFHE0U3oh5"
   },
   "outputs": [],
   "source": [
    "import matplotlib.pyplot as plt\n",
    "\n",
    "# TODO: plot the model loss on both training and validation data. \n",
    "loss = history.history['loss']\n",
    "val_loss = history.history['val_loss']\n",
    "\n",
    "epochs = range(1, len(loss) + 1)"
   ]
  },
  {
   "cell_type": "code",
   "execution_count": 61,
   "metadata": {},
   "outputs": [
    {
     "data": {
      "image/png": "[encoded data removed]",
      "text/plain": [
       "<Figure size 432x288 with 1 Axes>"
      ]
     },
     "metadata": {
      "needs_background": "light"
     },
     "output_type": "display_data"
    }
   ],
   "source": [
    "plt.plot(epochs, loss, 'bo', label='Training loss')\n",
    "plt.plot(epochs, val_loss, 'b', label='Validation loss')\n",
    "plt.title('Loss on Training and validation')\n",
    "plt.xlabel('Epochs')\n",
    "plt.ylabel('Loss')\n",
    "plt.legend()\n",
    "\n",
    "plt.show()"
   ]
  },
  {
   "cell_type": "code",
   "execution_count": 62,
   "metadata": {
    "id": "M69rtt143oh6"
   },
   "outputs": [],
   "source": [
    "# TODO: plot prediction accuracy on both training and validation data. \n",
    "acc = history.history['accuracy']\n",
    "val_acc = history.history['val_accuracy']"
   ]
  },
  {
   "cell_type": "code",
   "execution_count": 63,
   "metadata": {},
   "outputs": [
    {
     "data": {
      "image/png": "[encoded data removed]",
      "text/plain": [
       "<Figure size 432x288 with 1 Axes>"
      ]
     },
     "metadata": {
      "needs_background": "light"
     },
     "output_type": "display_data"
    }
   ],
   "source": [
    "plt.plot(epochs, acc, 'bo', label='Training acc')\n",
    "plt.plot(epochs, val_acc, 'b', label='Validation acc')\n",
    "plt.title('Accuracy on Training and validation')\n",
    "plt.xlabel('Epochs')\n",
    "plt.ylabel('Loss')\n",
    "plt.legend()\n",
    "\n",
    "plt.show()"
   ]
  },
  {
   "cell_type": "markdown",
   "metadata": {
    "id": "LUarkgZd3oh7"
   },
   "source": [
    "It seems that the network starts overfitting after certain epochs. Let's train a new network from scratch for fewer epochs before it starts overfitting, then let's evaluate it on the test set:"
   ]
  },
  {
   "cell_type": "code",
   "execution_count": 64,
   "metadata": {
    "id": "IciZ2dMP3oh8"
   },
   "outputs": [
    {
     "name": "stdout",
     "output_type": "stream",
     "text": [
      "Epoch 1/10\n",
      "16/16 [==============================] - 1s 22ms/step - loss: 2.6404 - accuracy: 0.5115 - val_loss: 1.7269 - val_accuracy: 0.6550\n",
      "Epoch 2/10\n",
      "16/16 [==============================] - 0s 15ms/step - loss: 1.4085 - accuracy: 0.7200 - val_loss: 1.3002 - val_accuracy: 0.7250\n",
      "Epoch 3/10\n",
      "16/16 [==============================] - 0s 16ms/step - loss: 1.0440 - accuracy: 0.7781 - val_loss: 1.1350 - val_accuracy: 0.7580\n",
      "Epoch 4/10\n",
      "16/16 [==============================] - 0s 15ms/step - loss: 0.8298 - accuracy: 0.8222 - val_loss: 1.0359 - val_accuracy: 0.7890\n",
      "Epoch 5/10\n",
      "16/16 [==============================] - 0s 15ms/step - loss: 0.6618 - accuracy: 0.8569 - val_loss: 0.9711 - val_accuracy: 0.8050\n",
      "Epoch 6/10\n",
      "16/16 [==============================] - 0s 15ms/step - loss: 0.5328 - accuracy: 0.8855 - val_loss: 0.9311 - val_accuracy: 0.8100\n",
      "Epoch 7/10\n",
      "16/16 [==============================] - 0s 16ms/step - loss: 0.4279 - accuracy: 0.9103 - val_loss: 0.9125 - val_accuracy: 0.8130\n",
      "Epoch 8/10\n",
      "16/16 [==============================] - 0s 15ms/step - loss: 0.3527 - accuracy: 0.9266 - val_loss: 0.9014 - val_accuracy: 0.8150\n",
      "Epoch 9/10\n",
      "16/16 [==============================] - 0s 15ms/step - loss: 0.2903 - accuracy: 0.9377 - val_loss: 0.8926 - val_accuracy: 0.8180\n",
      "Epoch 10/10\n",
      "16/16 [==============================] - 0s 16ms/step - loss: 0.2485 - accuracy: 0.9437 - val_loss: 0.9030 - val_accuracy: 0.8120\n"
     ]
    },
    {
     "data": {
      "text/plain": [
       "<keras.callbacks.History at 0x7f904d1cff10>"
      ]
     },
     "execution_count": 64,
     "metadata": {},
     "output_type": "execute_result"
    }
   ],
   "source": [
    "# TODO: retrain the model with the fewer epoches to avoid overfitting\n",
    "# retrain model with changing epoches from 20 to 10\n",
    "\n",
    "model = models.Sequential()\n",
    "model.add(layers.Dense(64, activation='relu', input_shape=(10000,)))\n",
    "model.add(layers.Dense(64, activation='relu'))\n",
    "model.add(layers.Dense(46, activation='softmax'))\n",
    "\n",
    "model.compile(optimizer='rmsprop',\n",
    "              loss='categorical_crossentropy',\n",
    "              metrics=['accuracy'])\n",
    "\n",
    "model.fit(partial_x_train,\n",
    "          partial_y_train,\n",
    "          epochs=10,\n",
    "          batch_size=512,\n",
    "          validation_data=(x_val, y_val))"
   ]
  },
  {
   "cell_type": "code",
   "execution_count": 65,
   "metadata": {},
   "outputs": [
    {
     "name": "stdout",
     "output_type": "stream",
     "text": [
      "71/71 [==============================] - 0s 1ms/step - loss: 0.9979 - accuracy: 0.7898\n"
     ]
    },
    {
     "data": {
      "text/plain": [
       "[0.9979169964790344, 0.7898486256599426]"
      ]
     },
     "execution_count": 65,
     "metadata": {},
     "output_type": "execute_result"
    }
   ],
   "source": [
    "results = model.evaluate(x_test, one_hot_test_labels)\n",
    "results"
   ]
  },
  {
   "cell_type": "markdown",
   "metadata": {
    "id": "XQ3VcXyx3oh_"
   },
   "source": [
    "\n",
    "Your model should reach an accuracy of ~78%. With a balanced binary classification problem, the accuracy reached by a purely random classifier \n",
    "would be 50%, but in our case it is closer to 19%, so our results seem pretty good, at least when compared to a random baseline."
   ]
  },
  {
   "cell_type": "markdown",
   "metadata": {
    "id": "FEzjb1m33oiA"
   },
   "source": [
    "## Generating predictions on new data\n",
    "\n",
    "We can verify that the `predict` method of our model instance returns a probability distribution over all 46 topics. Let's generate topic \n",
    "predictions for all of the test data:"
   ]
  },
  {
   "cell_type": "code",
   "execution_count": 66,
   "metadata": {
    "id": "lIuTWvUq3oiB"
   },
   "outputs": [
    {
     "data": {
      "text/plain": [
       "array([[2.1982421e-04, 8.2863960e-05, 9.1070642e-06, ..., 2.8649761e-06,\n",
       "        1.2335543e-05, 1.0714490e-06],\n",
       "       [1.9644583e-02, 4.1045785e-02, 1.0589060e-03, ..., 9.9200185e-04,\n",
       "        1.4567263e-06, 1.2041288e-04],\n",
       "       [2.9863992e-03, 8.4367031e-01, 1.1753496e-02, ..., 2.1306085e-03,\n",
       "        5.8423724e-05, 1.4277019e-03],\n",
       "       ...,\n",
       "       [7.8324105e-05, 7.4441246e-05, 5.9331742e-05, ..., 1.6071022e-05,\n",
       "        6.3637279e-05, 8.8459401e-06],\n",
       "       [1.6084999e-02, 9.9886261e-02, 1.5629636e-02, ..., 8.5532246e-04,\n",
       "        1.5833612e-03, 1.1155083e-03],\n",
       "       [2.4862259e-03, 7.1109128e-01, 3.8301989e-02, ..., 1.1928690e-03,\n",
       "        7.1941846e-05, 1.5264441e-03]], dtype=float32)"
      ]
     },
     "execution_count": 66,
     "metadata": {},
     "output_type": "execute_result"
    }
   ],
   "source": [
    "# TODO: use the learnt neural network to make a prediction on \n",
    "# the test data \n",
    "predictions = model.predict(x_test)\n",
    "predictions"
   ]
  },
  {
   "cell_type": "markdown",
   "metadata": {
    "id": "O1LzmGXx3oiB"
   },
   "source": [
    "Each entry in `predictions` is a vector of length 46. **The** largest entry is the predicted class, i.e. the class with the highest probability:"
   ]
  },
  {
   "cell_type": "code",
   "execution_count": 67,
   "metadata": {
    "id": "L3RyKAsw3oiB"
   },
   "outputs": [
    {
     "data": {
      "text/plain": [
       "(46,)"
      ]
     },
     "execution_count": 67,
     "metadata": {},
     "output_type": "execute_result"
    }
   ],
   "source": [
    "# TODO: evaluate model performan in terms of accuracy on prediction against the ground truth.\n",
    "predictions[0].shape"
   ]
  },
  {
   "cell_type": "code",
   "execution_count": 68,
   "metadata": {},
   "outputs": [
    {
     "data": {
      "text/plain": [
       "1.0"
      ]
     },
     "execution_count": 68,
     "metadata": {},
     "output_type": "execute_result"
    }
   ],
   "source": [
    "np.sum(predictions[0])"
   ]
  },
  {
   "cell_type": "code",
   "execution_count": 69,
   "metadata": {},
   "outputs": [
    {
     "data": {
      "text/plain": [
       "3"
      ]
     },
     "execution_count": 69,
     "metadata": {},
     "output_type": "execute_result"
    }
   ],
   "source": [
    "np.argmax(predictions[0])"
   ]
  },
  {
   "cell_type": "markdown",
   "metadata": {
    "id": "Pw3GlSYG3oiH"
   },
   "source": [
    "## On the importance of having sufficiently large intermediate layers\n",
    "\n",
    "\n",
    "We mentioned earlier that since our final outputs were 46-dimensional, we should avoid intermediate layers with much less than 46 hidden \n",
    "units. Now let's try to see what happens when we introduce an information bottleneck by having intermediate layers significantly less than \n",
    "46-dimensional, e.g. 4-dimensional."
   ]
  },
  {
   "cell_type": "code",
   "execution_count": 83,
   "metadata": {
    "id": "emfKokRe3oiH"
   },
   "outputs": [
    {
     "name": "stdout",
     "output_type": "stream",
     "text": [
      "Epoch 1/10\n",
      "16/16 [==============================] - 1s 21ms/step - loss: 3.7301 - accuracy: 0.2791 - val_loss: 3.6288 - val_accuracy: 0.3730\n",
      "Epoch 2/10\n",
      "16/16 [==============================] - 0s 10ms/step - loss: 3.5219 - accuracy: 0.3829 - val_loss: 3.4451 - val_accuracy: 0.3850\n",
      "Epoch 3/10\n",
      "16/16 [==============================] - 0s 10ms/step - loss: 3.3134 - accuracy: 0.3918 - val_loss: 3.2500 - val_accuracy: 0.3860\n",
      "Epoch 4/10\n",
      "16/16 [==============================] - 0s 10ms/step - loss: 3.0945 - accuracy: 0.3974 - val_loss: 3.0380 - val_accuracy: 0.3950\n",
      "Epoch 5/10\n",
      "16/16 [==============================] - 0s 10ms/step - loss: 2.8692 - accuracy: 0.4119 - val_loss: 2.8248 - val_accuracy: 0.4100\n",
      "Epoch 6/10\n",
      "16/16 [==============================] - 0s 10ms/step - loss: 2.6499 - accuracy: 0.4181 - val_loss: 2.6240 - val_accuracy: 0.4110\n",
      "Epoch 7/10\n",
      "16/16 [==============================] - 0s 10ms/step - loss: 2.4495 - accuracy: 0.4217 - val_loss: 2.4407 - val_accuracy: 0.4110\n",
      "Epoch 8/10\n",
      "16/16 [==============================] - 0s 10ms/step - loss: 2.2735 - accuracy: 0.4262 - val_loss: 2.2837 - val_accuracy: 0.4180\n",
      "Epoch 9/10\n",
      "16/16 [==============================] - 0s 11ms/step - loss: 2.1204 - accuracy: 0.4476 - val_loss: 2.1463 - val_accuracy: 0.4430\n",
      "Epoch 10/10\n",
      "16/16 [==============================] - 0s 10ms/step - loss: 1.9823 - accuracy: 0.5039 - val_loss: 2.0163 - val_accuracy: 0.5290\n",
      "71/71 [==============================] - 0s 934us/step - loss: 2.0254 - accuracy: 0.5227\n"
     ]
    },
    {
     "data": {
      "text/plain": [
       "[2.025362253189087, 0.5227070450782776]"
      ]
     },
     "execution_count": 83,
     "metadata": {},
     "output_type": "execute_result"
    }
   ],
   "source": [
    "# TODO: build a neural network with 4 neuron units in the hidden layer with the validation data \n",
    "# and evaluate its performance on the test data.\n",
    "\n",
    "# NOTE: Keep using retrained model with 10 epochs from now on - for avoiding overfitting\n",
    "\n",
    "model = models.Sequential()\n",
    "model.add(layers.Dense(4, activation='relu', input_shape=(10000,)))\n",
    "model.add(layers.Dense(4, activation='relu'))\n",
    "model.add(layers.Dense(46, activation='softmax'))\n",
    "\n",
    "model.compile(optimizer='rmsprop',\n",
    "              loss='categorical_crossentropy',\n",
    "              metrics=['accuracy'])\n",
    "\n",
    "model.fit(partial_x_train,\n",
    "          partial_y_train,\n",
    "          epochs=10,\n",
    "          batch_size=512,\n",
    "          validation_data=(x_val, y_val))\n",
    "\n",
    "results = model.evaluate(x_test, one_hot_test_labels)\n",
    "results"
   ]
  },
  {
   "cell_type": "markdown",
   "metadata": {
    "id": "M6wV_AR23oiI"
   },
   "source": [
    "\n",
    "You should see the model performance drop. This drop is mostly due to the fact that we are now trying to compress a lot of information (enough information to recover the separation hyperplanes of 46 classes) into an intermediate space that is too low-dimensional. The network is able to cram _most_ of the necessary information into these 8-dimensional representations, but not all of it."
   ]
  },
  {
   "cell_type": "markdown",
   "metadata": {
    "id": "8bFLuR8b3oiI"
   },
   "source": [
    "## Try using larger or smaller hidden layers: 32 units, and 128 units, and see if you will be able to improve the model performance on the test data.\n"
   ]
  },
  {
   "cell_type": "code",
   "execution_count": 84,
   "metadata": {
    "id": "B1v7pFMGrEik"
   },
   "outputs": [
    {
     "name": "stdout",
     "output_type": "stream",
     "text": [
      "Epoch 1/10\n",
      "16/16 [==============================] - 1s 20ms/step - loss: 3.0858 - accuracy: 0.4754 - val_loss: 2.3748 - val_accuracy: 0.5740\n",
      "Epoch 2/10\n",
      "16/16 [==============================] - 0s 11ms/step - loss: 1.9638 - accuracy: 0.6396 - val_loss: 1.6954 - val_accuracy: 0.6560\n",
      "Epoch 3/10\n",
      "16/16 [==============================] - 0s 11ms/step - loss: 1.4378 - accuracy: 0.7121 - val_loss: 1.4047 - val_accuracy: 0.7030\n",
      "Epoch 4/10\n",
      "16/16 [==============================] - 0s 11ms/step - loss: 1.1645 - accuracy: 0.7562 - val_loss: 1.2454 - val_accuracy: 0.7260\n",
      "Epoch 5/10\n",
      "16/16 [==============================] - 0s 11ms/step - loss: 0.9814 - accuracy: 0.7920 - val_loss: 1.1503 - val_accuracy: 0.7500\n",
      "Epoch 6/10\n",
      "16/16 [==============================] - 0s 11ms/step - loss: 0.8438 - accuracy: 0.8188 - val_loss: 1.0815 - val_accuracy: 0.7740\n",
      "Epoch 7/10\n",
      "16/16 [==============================] - 0s 11ms/step - loss: 0.7279 - accuracy: 0.8449 - val_loss: 1.0203 - val_accuracy: 0.7790\n",
      "Epoch 8/10\n",
      "16/16 [==============================] - 0s 11ms/step - loss: 0.6323 - accuracy: 0.8642 - val_loss: 0.9783 - val_accuracy: 0.7860\n",
      "Epoch 9/10\n",
      "16/16 [==============================] - 0s 11ms/step - loss: 0.5457 - accuracy: 0.8851 - val_loss: 0.9472 - val_accuracy: 0.7960\n",
      "Epoch 10/10\n",
      "16/16 [==============================] - 0s 11ms/step - loss: 0.4723 - accuracy: 0.9002 - val_loss: 0.9253 - val_accuracy: 0.8040\n",
      "71/71 [==============================] - 0s 902us/step - loss: 1.0179 - accuracy: 0.7756\n"
     ]
    },
    {
     "data": {
      "text/plain": [
       "[1.0178710222244263, 0.7756010890007019]"
      ]
     },
     "execution_count": 84,
     "metadata": {},
     "output_type": "execute_result"
    }
   ],
   "source": [
    "# TODO: Try using larger or smaller hidden layers: 32 units, and 128 units\n",
    "\n",
    "# 32 units\n",
    "model = models.Sequential()\n",
    "model.add(layers.Dense(32, activation='relu', input_shape=(10000,)))\n",
    "model.add(layers.Dense(32, activation='relu'))\n",
    "model.add(layers.Dense(46, activation='softmax'))\n",
    "\n",
    "model.compile(optimizer='rmsprop',\n",
    "              loss='categorical_crossentropy',\n",
    "              metrics=['accuracy'])\n",
    "\n",
    "model.fit(partial_x_train,\n",
    "          partial_y_train,\n",
    "          epochs=10,\n",
    "          batch_size=512,\n",
    "          validation_data=(x_val, y_val))\n",
    "\n",
    "results = model.evaluate(x_test, one_hot_test_labels)\n",
    "results"
   ]
  },
  {
   "cell_type": "code",
   "execution_count": 85,
   "metadata": {},
   "outputs": [
    {
     "name": "stdout",
     "output_type": "stream",
     "text": [
      "Epoch 1/10\n",
      "16/16 [==============================] - 1s 32ms/step - loss: 2.1746 - accuracy: 0.5378 - val_loss: 1.4292 - val_accuracy: 0.6850\n",
      "Epoch 2/10\n",
      "16/16 [==============================] - 0s 23ms/step - loss: 1.1105 - accuracy: 0.7641 - val_loss: 1.1063 - val_accuracy: 0.7530\n",
      "Epoch 3/10\n",
      "16/16 [==============================] - 0s 24ms/step - loss: 0.7616 - accuracy: 0.8423 - val_loss: 0.9844 - val_accuracy: 0.7920\n",
      "Epoch 4/10\n",
      "16/16 [==============================] - 0s 23ms/step - loss: 0.5646 - accuracy: 0.8835 - val_loss: 0.8985 - val_accuracy: 0.8180\n",
      "Epoch 5/10\n",
      "16/16 [==============================] - 0s 23ms/step - loss: 0.4105 - accuracy: 0.9107 - val_loss: 0.9289 - val_accuracy: 0.8140\n",
      "Epoch 6/10\n",
      "16/16 [==============================] - 0s 24ms/step - loss: 0.3105 - accuracy: 0.9334 - val_loss: 0.8921 - val_accuracy: 0.8200\n",
      "Epoch 7/10\n",
      "16/16 [==============================] - 0s 24ms/step - loss: 0.2493 - accuracy: 0.9436 - val_loss: 0.9288 - val_accuracy: 0.8110\n",
      "Epoch 8/10\n",
      "16/16 [==============================] - 0s 23ms/step - loss: 0.2111 - accuracy: 0.9485 - val_loss: 0.9152 - val_accuracy: 0.8080\n",
      "Epoch 9/10\n",
      "16/16 [==============================] - 0s 24ms/step - loss: 0.1764 - accuracy: 0.9541 - val_loss: 0.9087 - val_accuracy: 0.8180\n",
      "Epoch 10/10\n",
      "16/16 [==============================] - 0s 22ms/step - loss: 0.1690 - accuracy: 0.9510 - val_loss: 0.9623 - val_accuracy: 0.8100\n",
      "71/71 [==============================] - 0s 1ms/step - loss: 1.0577 - accuracy: 0.7872\n"
     ]
    },
    {
     "data": {
      "text/plain": [
       "[1.0577466487884521, 0.7871772050857544]"
      ]
     },
     "execution_count": 85,
     "metadata": {},
     "output_type": "execute_result"
    }
   ],
   "source": [
    "# 128 units\n",
    "model = models.Sequential()\n",
    "model.add(layers.Dense(128, activation='relu', input_shape=(10000,)))\n",
    "model.add(layers.Dense(128, activation='relu'))\n",
    "model.add(layers.Dense(46, activation='softmax'))\n",
    "\n",
    "model.compile(optimizer='rmsprop',\n",
    "              loss='categorical_crossentropy',\n",
    "              metrics=['accuracy'])\n",
    "\n",
    "model.fit(partial_x_train,\n",
    "          partial_y_train,\n",
    "          epochs=10,\n",
    "          batch_size=512,\n",
    "          validation_data=(x_val, y_val))\n",
    "\n",
    "results = model.evaluate(x_test, one_hot_test_labels)\n",
    "results"
   ]
  },
  {
   "cell_type": "code",
   "execution_count": null,
   "metadata": {},
   "outputs": [],
   "source": [
    "# # The performance on the test data has no big improvement, with 32 or 128 units."
   ]
  },
  {
   "cell_type": "markdown",
   "metadata": {
    "id": "qJ1JPiTErD7X"
   },
   "source": [
    "\n",
    "## We were using two hidden layers. Now try to use a single hidden layer, or three hidden layers, and see if you will be able to improve the model performance on the test data.\n",
    "\n"
   ]
  },
  {
   "cell_type": "code",
   "execution_count": 86,
   "metadata": {
    "id": "6zukIClyrh3k"
   },
   "outputs": [
    {
     "name": "stdout",
     "output_type": "stream",
     "text": [
      "Epoch 1/10\n",
      "16/16 [==============================] - 1s 23ms/step - loss: 2.5219 - accuracy: 0.5506 - val_loss: 1.7625 - val_accuracy: 0.6580\n",
      "Epoch 2/10\n",
      "16/16 [==============================] - 0s 15ms/step - loss: 1.4477 - accuracy: 0.7239 - val_loss: 1.3269 - val_accuracy: 0.7210\n",
      "Epoch 3/10\n",
      "16/16 [==============================] - 0s 15ms/step - loss: 1.0635 - accuracy: 0.7840 - val_loss: 1.1380 - val_accuracy: 0.7600\n",
      "Epoch 4/10\n",
      "16/16 [==============================] - 0s 15ms/step - loss: 0.8308 - accuracy: 0.8311 - val_loss: 1.0202 - val_accuracy: 0.7760\n",
      "Epoch 5/10\n",
      "16/16 [==============================] - 0s 15ms/step - loss: 0.6648 - accuracy: 0.8671 - val_loss: 0.9336 - val_accuracy: 0.8050\n",
      "Epoch 6/10\n",
      "16/16 [==============================] - 0s 15ms/step - loss: 0.5410 - accuracy: 0.8946 - val_loss: 0.8915 - val_accuracy: 0.8110\n",
      "Epoch 7/10\n",
      "16/16 [==============================] - 0s 15ms/step - loss: 0.4442 - accuracy: 0.9124 - val_loss: 0.8681 - val_accuracy: 0.8140\n",
      "Epoch 8/10\n",
      "16/16 [==============================] - 0s 15ms/step - loss: 0.3698 - accuracy: 0.9246 - val_loss: 0.8343 - val_accuracy: 0.8160\n",
      "Epoch 9/10\n",
      "16/16 [==============================] - 0s 15ms/step - loss: 0.3097 - accuracy: 0.9361 - val_loss: 0.8119 - val_accuracy: 0.8240\n",
      "Epoch 10/10\n",
      "16/16 [==============================] - 0s 16ms/step - loss: 0.2627 - accuracy: 0.9424 - val_loss: 0.8245 - val_accuracy: 0.8260\n",
      "71/71 [==============================] - 0s 1ms/step - loss: 0.9096 - accuracy: 0.7956\n"
     ]
    },
    {
     "data": {
      "text/plain": [
       "[0.9096263647079468, 0.7956367135047913]"
      ]
     },
     "execution_count": 86,
     "metadata": {},
     "output_type": "execute_result"
    }
   ],
   "source": [
    "# TODO: Try to use a single hidden layer, or three hidden layers\n",
    "\n",
    "# Try single layer, 64 units\n",
    "model = models.Sequential()\n",
    "model.add(layers.Dense(64, activation='relu', input_shape=(10000,)))\n",
    "model.add(layers.Dense(46, activation='softmax'))\n",
    "\n",
    "model.compile(optimizer='rmsprop',\n",
    "              loss='categorical_crossentropy',\n",
    "              metrics=['accuracy'])\n",
    "\n",
    "model.fit(partial_x_train,\n",
    "          partial_y_train,\n",
    "          epochs=10,\n",
    "          batch_size=512,\n",
    "          validation_data=(x_val, y_val))\n",
    "\n",
    "results = model.evaluate(x_test, one_hot_test_labels)\n",
    "results"
   ]
  },
  {
   "cell_type": "code",
   "execution_count": 37,
   "metadata": {},
   "outputs": [],
   "source": [
    "# The perfromance on test data has been better by using single hidden layer."
   ]
  },
  {
   "cell_type": "code",
   "execution_count": 87,
   "metadata": {},
   "outputs": [
    {
     "name": "stdout",
     "output_type": "stream",
     "text": [
      "Epoch 1/10\n",
      "16/16 [==============================] - 1s 25ms/step - loss: 2.6863 - accuracy: 0.4937 - val_loss: 1.7433 - val_accuracy: 0.5990\n",
      "Epoch 2/10\n",
      "16/16 [==============================] - 0s 16ms/step - loss: 1.4529 - accuracy: 0.6904 - val_loss: 1.3325 - val_accuracy: 0.7130\n",
      "Epoch 3/10\n",
      "16/16 [==============================] - 0s 15ms/step - loss: 1.0840 - accuracy: 0.7611 - val_loss: 1.1587 - val_accuracy: 0.7440\n",
      "Epoch 4/10\n",
      "16/16 [==============================] - 0s 16ms/step - loss: 0.8599 - accuracy: 0.8158 - val_loss: 1.0645 - val_accuracy: 0.7780\n",
      "Epoch 5/10\n",
      "16/16 [==============================] - 0s 15ms/step - loss: 0.6884 - accuracy: 0.8530 - val_loss: 1.0115 - val_accuracy: 0.7910\n",
      "Epoch 6/10\n",
      "16/16 [==============================] - 0s 15ms/step - loss: 0.5552 - accuracy: 0.8791 - val_loss: 1.0114 - val_accuracy: 0.7880\n",
      "Epoch 7/10\n",
      "16/16 [==============================] - 0s 15ms/step - loss: 0.4495 - accuracy: 0.9028 - val_loss: 0.9602 - val_accuracy: 0.8040\n",
      "Epoch 8/10\n",
      "16/16 [==============================] - 0s 15ms/step - loss: 0.3617 - accuracy: 0.9208 - val_loss: 0.9926 - val_accuracy: 0.8070\n",
      "Epoch 9/10\n",
      "16/16 [==============================] - 0s 16ms/step - loss: 0.3016 - accuracy: 0.9334 - val_loss: 1.0711 - val_accuracy: 0.7920\n",
      "Epoch 10/10\n",
      "16/16 [==============================] - 0s 16ms/step - loss: 0.2557 - accuracy: 0.9407 - val_loss: 1.0246 - val_accuracy: 0.8090\n",
      "71/71 [==============================] - 0s 1ms/step - loss: 1.1136 - accuracy: 0.7818\n"
     ]
    },
    {
     "data": {
      "text/plain": [
       "[1.1136127710342407, 0.7818343639373779]"
      ]
     },
     "execution_count": 87,
     "metadata": {},
     "output_type": "execute_result"
    }
   ],
   "source": [
    "model = models.Sequential()\n",
    "model.add(layers.Dense(64, activation='relu', input_shape=(10000,)))\n",
    "model.add(layers.Dense(64, activation='relu'))\n",
    "model.add(layers.Dense(64, activation='relu'))\n",
    "model.add(layers.Dense(46, activation='softmax'))\n",
    "\n",
    "model.compile(optimizer='rmsprop',\n",
    "              loss='categorical_crossentropy',\n",
    "              metrics=['accuracy'])\n",
    "\n",
    "model.fit(partial_x_train,\n",
    "          partial_y_train,\n",
    "          epochs=10,\n",
    "          batch_size=512,\n",
    "          validation_data=(x_val, y_val))\n",
    "\n",
    "results = model.evaluate(x_test, one_hot_test_labels)\n",
    "results"
   ]
  },
  {
   "cell_type": "code",
   "execution_count": null,
   "metadata": {},
   "outputs": [],
   "source": [
    "# The perfromance on test data has been slightly worse by using three hidden layers."
   ]
  },
  {
   "cell_type": "markdown",
   "metadata": {
    "id": "gldwCoKB3oiI"
   },
   "source": [
    "## Wrapping up\n",
    "\n",
    "\n",
    "Here's what you should take away from this example:\n",
    "\n",
    "* If you are trying to classify data points between N classes, your network should end with a `Dense` layer of size N.\n",
    "* In a single-label, multi-class classification problem, your network should end with a `softmax` activation, so that it will output a \n",
    "probability distribution over the N output classes.\n",
    "* _Categorical crossentropy_ is almost always the loss function you should use for such problems. It minimizes the distance between the \n",
    "probability distributions output by the network, and the true distribution of the targets.\n",
    "* There are two ways to handle labels in multi-class classification:\n",
    "    ** Encoding the labels via \"categorical encoding\" (also known as \"one-hot encoding\") and using `categorical_crossentropy` as your loss \n",
    "function.\n",
    "    ** Encoding the labels as integers and using the `sparse_categorical_crossentropy` loss function.\n",
    "* If you need to classify data into a large number of categories, then you should avoid creating information bottlenecks in your network by having \n",
    "intermediate layers that are too small."
   ]
  },
  {
   "cell_type": "markdown",
   "metadata": {
    "id": "aKekl-HuGXiU"
   },
   "source": [
    "## Bonus Point\n",
    "Can you think of other methods to further improve the model performance? Code it up and evaluate them."
   ]
  },
  {
   "cell_type": "code",
   "execution_count": 42,
   "metadata": {
    "id": "38I30otcrO-r"
   },
   "outputs": [
    {
     "name": "stdout",
     "output_type": "stream",
     "text": [
      "Model: \"sequential_11\"\n",
      "_________________________________________________________________\n",
      " Layer (type)                Output Shape              Param #   \n",
      "=================================================================\n",
      " dense_33 (Dense)            (None, 64)                640064    \n",
      "                                                                 \n",
      " dense_34 (Dense)            (None, 64)                4160      \n",
      "                                                                 \n",
      " dense_35 (Dense)            (None, 64)                4160      \n",
      "                                                                 \n",
      " dense_36 (Dense)            (None, 46)                2990      \n",
      "                                                                 \n",
      "=================================================================\n",
      "Total params: 651,374\n",
      "Trainable params: 651,374\n",
      "Non-trainable params: 0\n",
      "_________________________________________________________________\n"
     ]
    }
   ],
   "source": [
    "# TODO\n",
    "model.summary()"
   ]
  },
  {
   "cell_type": "code",
   "execution_count": 88,
   "metadata": {},
   "outputs": [
    {
     "name": "stdout",
     "output_type": "stream",
     "text": [
      "Epoch 1/10\n",
      "16/16 [==============================] - 1s 24ms/step - loss: 2.7842 - accuracy: 0.5073 - val_loss: 1.8881 - val_accuracy: 0.6340\n",
      "Epoch 2/10\n",
      "16/16 [==============================] - 0s 16ms/step - loss: 1.6087 - accuracy: 0.7038 - val_loss: 1.4969 - val_accuracy: 0.7190\n",
      "Epoch 3/10\n",
      "16/16 [==============================] - 0s 17ms/step - loss: 1.2756 - accuracy: 0.7635 - val_loss: 1.3453 - val_accuracy: 0.7460\n",
      "Epoch 4/10\n",
      "16/16 [==============================] - 0s 16ms/step - loss: 1.0782 - accuracy: 0.8084 - val_loss: 1.2679 - val_accuracy: 0.7670\n",
      "Epoch 5/10\n",
      "16/16 [==============================] - 0s 16ms/step - loss: 0.9458 - accuracy: 0.8381 - val_loss: 1.1894 - val_accuracy: 0.7940\n",
      "Epoch 6/10\n",
      "16/16 [==============================] - 0s 17ms/step - loss: 0.8488 - accuracy: 0.8612 - val_loss: 1.1567 - val_accuracy: 0.7830\n",
      "Epoch 7/10\n",
      "16/16 [==============================] - 0s 16ms/step - loss: 0.7678 - accuracy: 0.8814 - val_loss: 1.1214 - val_accuracy: 0.8170\n",
      "Epoch 8/10\n",
      "16/16 [==============================] - 0s 16ms/step - loss: 0.7049 - accuracy: 0.8964 - val_loss: 1.1298 - val_accuracy: 0.8000\n",
      "Epoch 9/10\n",
      "16/16 [==============================] - 0s 16ms/step - loss: 0.6589 - accuracy: 0.9100 - val_loss: 1.0979 - val_accuracy: 0.8190\n",
      "Epoch 10/10\n",
      "16/16 [==============================] - 0s 18ms/step - loss: 0.6168 - accuracy: 0.9179 - val_loss: 1.1069 - val_accuracy: 0.8040\n",
      "71/71 [==============================] - 0s 1ms/step - loss: 1.2109 - accuracy: 0.7783\n"
     ]
    },
    {
     "data": {
      "text/plain": [
       "[1.2109249830245972, 0.7782725095748901]"
      ]
     },
     "execution_count": 88,
     "metadata": {},
     "output_type": "execute_result"
    }
   ],
   "source": [
    "# 1. Try L2 weight regularization to improve the performance.\n",
    "# Alpha = 0.001\n",
    "from keras import regularizers\n",
    "\n",
    "model_L2 = models.Sequential()\n",
    "model_L2.add(layers.Dense(64, kernel_regularizer=regularizers.l2(0.001), activation='relu', input_shape=(10000,)))\n",
    "model_L2.add(layers.Dense(64, kernel_regularizer=regularizers.l2(0.001), activation='relu'))\n",
    "model_L2.add(layers.Dense(46, activation='softmax'))\n",
    "\n",
    "model_L2.compile(optimizer='rmsprop',\n",
    "              loss='categorical_crossentropy',\n",
    "              metrics=['accuracy'])\n",
    "\n",
    "model_L2.fit(partial_x_train,\n",
    "          partial_y_train,\n",
    "          epochs=10,\n",
    "          batch_size=512,\n",
    "          validation_data=(x_val, y_val))\n",
    "\n",
    "results = model_L2.evaluate(x_test, one_hot_test_labels)\n",
    "results"
   ]
  },
  {
   "cell_type": "code",
   "execution_count": 91,
   "metadata": {},
   "outputs": [
    {
     "name": "stdout",
     "output_type": "stream",
     "text": [
      "Epoch 1/10\n",
      "16/16 [==============================] - 1s 23ms/step - loss: 2.5694 - accuracy: 0.5457 - val_loss: 1.8154 - val_accuracy: 0.6530\n",
      "Epoch 2/10\n",
      "16/16 [==============================] - 0s 16ms/step - loss: 1.5223 - accuracy: 0.7212 - val_loss: 1.4183 - val_accuracy: 0.7180\n",
      "Epoch 3/10\n",
      "16/16 [==============================] - 0s 16ms/step - loss: 1.1887 - accuracy: 0.7844 - val_loss: 1.2467 - val_accuracy: 0.7640\n",
      "Epoch 4/10\n",
      "16/16 [==============================] - 0s 16ms/step - loss: 1.0028 - accuracy: 0.8215 - val_loss: 1.1513 - val_accuracy: 0.7890\n",
      "Epoch 5/10\n",
      "16/16 [==============================] - 0s 16ms/step - loss: 0.8819 - accuracy: 0.8467 - val_loss: 1.1018 - val_accuracy: 0.7980\n",
      "Epoch 6/10\n",
      "16/16 [==============================] - 0s 16ms/step - loss: 0.7925 - accuracy: 0.8713 - val_loss: 1.0603 - val_accuracy: 0.8070\n",
      "Epoch 7/10\n",
      "16/16 [==============================] - 0s 16ms/step - loss: 0.7263 - accuracy: 0.8880 - val_loss: 1.0353 - val_accuracy: 0.8090\n",
      "Epoch 8/10\n",
      "16/16 [==============================] - 0s 16ms/step - loss: 0.6746 - accuracy: 0.8991 - val_loss: 1.0042 - val_accuracy: 0.8200\n",
      "Epoch 9/10\n",
      "16/16 [==============================] - 0s 16ms/step - loss: 0.6320 - accuracy: 0.9090 - val_loss: 0.9860 - val_accuracy: 0.8180\n",
      "Epoch 10/10\n",
      "16/16 [==============================] - 0s 16ms/step - loss: 0.5955 - accuracy: 0.9184 - val_loss: 0.9841 - val_accuracy: 0.8150\n",
      "71/71 [==============================] - 0s 1ms/step - loss: 1.0610 - accuracy: 0.7979\n"
     ]
    },
    {
     "data": {
      "text/plain": [
       "[1.0609667301177979, 0.7978628873825073]"
      ]
     },
     "execution_count": 91,
     "metadata": {},
     "output_type": "execute_result"
    }
   ],
   "source": [
    "model_L2 = models.Sequential()\n",
    "model_L2.add(layers.Dense(64, kernel_regularizer=regularizers.l2(0.001), activation='relu', input_shape=(10000,)))\n",
    "model_L2.add(layers.Dense(46, activation='softmax'))\n",
    "\n",
    "model_L2.compile(optimizer='rmsprop',\n",
    "              loss='categorical_crossentropy',\n",
    "              metrics=['accuracy'])\n",
    "\n",
    "model_L2.fit(partial_x_train,\n",
    "          partial_y_train,\n",
    "          epochs=10,\n",
    "          batch_size=512,\n",
    "          validation_data=(x_val, y_val))\n",
    "\n",
    "results = model_L2.evaluate(x_test, one_hot_test_labels)\n",
    "results"
   ]
  },
  {
   "cell_type": "code",
   "execution_count": null,
   "metadata": {},
   "outputs": [],
   "source": [
    "# Using single layer, 64 units in L2 model shows the best performance."
   ]
  },
  {
   "cell_type": "code",
   "execution_count": 92,
   "metadata": {},
   "outputs": [
    {
     "name": "stdout",
     "output_type": "stream",
     "text": [
      "Epoch 1/10\n",
      "16/16 [==============================] - 1s 27ms/step - loss: 2.6434 - accuracy: 0.5232 - val_loss: 1.7218 - val_accuracy: 0.6310\n",
      "Epoch 2/10\n",
      "16/16 [==============================] - 0s 17ms/step - loss: 1.4715 - accuracy: 0.6863 - val_loss: 1.3069 - val_accuracy: 0.7140\n",
      "Epoch 3/10\n",
      "16/16 [==============================] - 0s 17ms/step - loss: 1.1308 - accuracy: 0.7509 - val_loss: 1.1483 - val_accuracy: 0.7560\n",
      "Epoch 4/10\n",
      "16/16 [==============================] - 0s 17ms/step - loss: 0.9282 - accuracy: 0.7881 - val_loss: 1.0617 - val_accuracy: 0.7640\n",
      "Epoch 5/10\n",
      "16/16 [==============================] - 0s 17ms/step - loss: 0.7817 - accuracy: 0.8230 - val_loss: 0.9856 - val_accuracy: 0.7880\n",
      "Epoch 6/10\n",
      "16/16 [==============================] - 0s 18ms/step - loss: 0.6503 - accuracy: 0.8519 - val_loss: 0.9602 - val_accuracy: 0.7910\n",
      "Epoch 7/10\n",
      "16/16 [==============================] - 0s 17ms/step - loss: 0.5595 - accuracy: 0.8747 - val_loss: 0.9190 - val_accuracy: 0.8090\n",
      "Epoch 8/10\n",
      "16/16 [==============================] - 0s 17ms/step - loss: 0.4660 - accuracy: 0.8994 - val_loss: 0.9065 - val_accuracy: 0.8120\n",
      "Epoch 9/10\n",
      "16/16 [==============================] - 0s 17ms/step - loss: 0.3892 - accuracy: 0.9128 - val_loss: 0.8844 - val_accuracy: 0.8130\n",
      "Epoch 10/10\n",
      "16/16 [==============================] - 0s 18ms/step - loss: 0.3413 - accuracy: 0.9246 - val_loss: 0.8804 - val_accuracy: 0.8210\n",
      "71/71 [==============================] - 0s 1ms/step - loss: 0.9659 - accuracy: 0.7939\n"
     ]
    },
    {
     "data": {
      "text/plain": [
       "[0.9658802151679993, 0.7938557267189026]"
      ]
     },
     "execution_count": 92,
     "metadata": {},
     "output_type": "execute_result"
    }
   ],
   "source": [
    "# 2. Try drop-out model\n",
    "# p = 0.1\n",
    "model_drop = models.Sequential()\n",
    "model_drop.add(layers.Dense(64, activation='relu', input_shape=(10000,)))\n",
    "model_drop.add(layers.Dropout(0.1))\n",
    "model_drop.add(layers.Dense(64, activation='relu'))\n",
    "model_drop.add(layers.Dropout(0.1))\n",
    "model_drop.add(layers.Dense(46, activation='softmax'))\n",
    "\n",
    "model_drop.compile(optimizer='rmsprop',\n",
    "              loss='categorical_crossentropy',\n",
    "              metrics=['accuracy'])\n",
    "\n",
    "model_drop.fit(partial_x_train,\n",
    "          partial_y_train,\n",
    "          epochs=10,\n",
    "          batch_size=512,\n",
    "          validation_data=(x_val, y_val))\n",
    "\n",
    "results = model_drop.evaluate(x_test, one_hot_test_labels)\n",
    "results"
   ]
  },
  {
   "cell_type": "code",
   "execution_count": 93,
   "metadata": {},
   "outputs": [
    {
     "name": "stdout",
     "output_type": "stream",
     "text": [
      "Epoch 1/10\n",
      "16/16 [==============================] - 1s 23ms/step - loss: 2.5730 - accuracy: 0.5563 - val_loss: 1.7897 - val_accuracy: 0.6550\n",
      "Epoch 2/10\n",
      "16/16 [==============================] - 0s 16ms/step - loss: 1.4755 - accuracy: 0.7152 - val_loss: 1.3414 - val_accuracy: 0.7190\n",
      "Epoch 3/10\n",
      "16/16 [==============================] - 0s 14ms/step - loss: 1.0942 - accuracy: 0.7769 - val_loss: 1.1369 - val_accuracy: 0.7560\n",
      "Epoch 4/10\n",
      "16/16 [==============================] - 0s 15ms/step - loss: 0.8691 - accuracy: 0.8193 - val_loss: 1.0255 - val_accuracy: 0.7770\n",
      "Epoch 5/10\n",
      "16/16 [==============================] - 0s 14ms/step - loss: 0.7128 - accuracy: 0.8563 - val_loss: 0.9543 - val_accuracy: 0.7990\n",
      "Epoch 6/10\n",
      "16/16 [==============================] - 0s 16ms/step - loss: 0.5924 - accuracy: 0.8795 - val_loss: 0.9038 - val_accuracy: 0.8140\n",
      "Epoch 7/10\n",
      "16/16 [==============================] - 0s 15ms/step - loss: 0.4961 - accuracy: 0.9008 - val_loss: 0.8686 - val_accuracy: 0.8150\n",
      "Epoch 8/10\n",
      "16/16 [==============================] - 0s 14ms/step - loss: 0.4236 - accuracy: 0.9126 - val_loss: 0.8519 - val_accuracy: 0.8180\n",
      "Epoch 9/10\n",
      "16/16 [==============================] - 0s 15ms/step - loss: 0.3577 - accuracy: 0.9262 - val_loss: 0.8316 - val_accuracy: 0.8200\n",
      "Epoch 10/10\n",
      "16/16 [==============================] - 0s 16ms/step - loss: 0.3078 - accuracy: 0.9347 - val_loss: 0.8186 - val_accuracy: 0.8290\n",
      "71/71 [==============================] - 0s 1ms/step - loss: 0.9008 - accuracy: 0.7979\n"
     ]
    },
    {
     "data": {
      "text/plain": [
       "[0.9007887840270996, 0.7978628873825073]"
      ]
     },
     "execution_count": 93,
     "metadata": {},
     "output_type": "execute_result"
    }
   ],
   "source": [
    "# single layer\n",
    "model_drop = models.Sequential()\n",
    "model_drop.add(layers.Dense(64, activation='relu', input_shape=(10000,)))\n",
    "model_drop.add(layers.Dropout(0.1))\n",
    "model_drop.add(layers.Dense(46, activation='softmax'))\n",
    "\n",
    "model_drop.compile(optimizer='rmsprop',\n",
    "              loss='categorical_crossentropy',\n",
    "              metrics=['accuracy'])\n",
    "\n",
    "model_drop.fit(partial_x_train,\n",
    "          partial_y_train,\n",
    "          epochs=10,\n",
    "          batch_size=512,\n",
    "          validation_data=(x_val, y_val))\n",
    "\n",
    "results = model_drop.evaluate(x_test, one_hot_test_labels)\n",
    "results"
   ]
  },
  {
   "cell_type": "code",
   "execution_count": null,
   "metadata": {},
   "outputs": [],
   "source": [
    "# The performance has slightly improved by using drop-out model."
   ]
  },
  {
   "cell_type": "markdown",
   "metadata": {
    "id": "l7CGM-0QrOrp"
   },
   "source": [
    "# End of HW1"
   ]
  }
 ],
 "metadata": {
  "colab": {
   "collapsed_sections": [],
   "name": "MSIS549_HW1_newswires.ipynb",
   "provenance": []
  },
  "kernelspec": {
   "display_name": "Python 3 (ipykernel)",
   "language": "python",
   "name": "python3"
  },
  "language_info": {
   "codemirror_mode": {
    "name": "ipython",
    "version": 3
   },
   "file_extension": ".py",
   "mimetype": "text/x-python",
   "name": "python",
   "nbconvert_exporter": "python",
   "pygments_lexer": "ipython3",
   "version": "3.9.7"
  }
 },
 "nbformat": 4,
 "nbformat_minor": 1
}

{
 "cells": [
  {
   "cell_type": "markdown",
   "metadata": {
    "id": "r2fyLhUMQlyH"
   },
   "source": [
    "# MSIS 579 HW3 RNN to Classify Reuters Topics\n",
    "\n",
    "In this homework, we will train a recurrent neural network to Classify Reuters newswires into 46 Topics.\n",
    "\n",
    "Dataset of 11,228 newswires from Reuters, labeled over 46 topics. As with the IMDB dataset, each wire is encoded as a sequence of word indexes (same conventions)."
   ]
  },
  {
   "cell_type": "code",
   "execution_count": 2,
   "metadata": {
    "id": "r3Y8ZHFGR1uq"
   },
   "outputs": [
    {
     "name": "stderr",
     "output_type": "stream",
     "text": [
      "UsageError: Line magic function `%tensorflow_version` not found.\n"
     ]
    }
   ],
   "source": [
    "%tensorflow_version 2.8.0\n",
    "%matplotlib inline\n",
    "import warnings\n",
    "warnings.filterwarnings('ignore')\n",
    "\n",
    "import tensorflow as tf\n",
    "tf.autograph.set_verbosity(0)\n",
    "\n",
    "from __future__ import print_function\n",
    "\n",
    "!pip install numpy\n",
    "import numpy as np\n",
    "import keras\n",
    "keras.__version__"
   ]
  },
  {
   "cell_type": "markdown",
   "metadata": {
    "id": "Uvtq164jRPNz"
   },
   "source": [
    "## Load Reuters Dataset\n",
    "\n",
    "First let's load the Reuters dataset. Please refer to [this API page](https://keras.io/api/datasets/reuters/) for details on how to load the data."
   ]
  },
  {
   "cell_type": "code",
   "execution_count": 26,
   "metadata": {
    "id": "Mbt21X3mQjZw"
   },
   "outputs": [
    {
     "name": "stdout",
     "output_type": "stream",
     "text": [
      "Loading data...\n"
     ]
    }
   ],
   "source": [
    "from keras.datasets import reuters\n",
    "from keras.models import Sequential\n",
    "from keras.layers import Dense, Dropout, Activation, Flatten\n",
    "from keras.preprocessing.text import Tokenizer\n",
    "\n",
    "max_words = 10000 # Number of words to consider as features\n",
    "\n",
    "print('Loading data...')\n",
    "(x_train, y_train), (x_test, y_test) = reuters.load_data(num_words=max_words, test_split=0.2)\n",
    "word_index = reuters.get_word_index(path=\"reuters_word_index.json\")"
   ]
  },
  {
   "cell_type": "code",
   "execution_count": 27,
   "metadata": {
    "id": "n-iTK-ST0UPH"
   },
   "outputs": [],
   "source": [
    "# TODO pad train and test sequences\n",
    "from keras.preprocessing import sequence\n",
    "\n",
    "maxlen = 500\n",
    "x_train = sequence.pad_sequences(x_train, maxlen=maxlen)\n",
    "x_test = sequence.pad_sequences(x_test, maxlen=maxlen)"
   ]
  },
  {
   "cell_type": "code",
   "execution_count": 28,
   "metadata": {
    "id": "lFBHxyi3RZkL"
   },
   "outputs": [],
   "source": [
    "# TODO convert labels into one hot encodings\n",
    "from tensorflow.keras.utils import to_categorical\n",
    "\n",
    "y_train = to_categorical(y_train)\n",
    "y_test = to_categorical(y_test)"
   ]
  },
  {
   "cell_type": "markdown",
   "metadata": {
    "id": "Qd7wneSMSTpS"
   },
   "source": [
    "## Task 1: Fully Connected Neural Networks\n",
    "\n",
    "In this task, we will learn a 128-dimensional word embedding layer as well as fully connected layers to classify Reuters newwires. Please refer to the lab code from lesson 4. Start with 10 epochs and watch out for overfitting. Hint: number of unique labels is 46"
   ]
  },
  {
   "cell_type": "code",
   "execution_count": 38,
   "metadata": {},
   "outputs": [
    {
     "name": "stdout",
     "output_type": "stream",
     "text": [
      "Model: \"sequential_10\"\n",
      "_________________________________________________________________\n",
      " Layer (type)                Output Shape              Param #   \n",
      "=================================================================\n",
      " embedding_7 (Embedding)     (None, 500, 128)          1280000   \n",
      "                                                                 \n",
      " dense_12 (Dense)            (None, 500, 64)           8256      \n",
      "                                                                 \n",
      " dense_13 (Dense)            (None, 500, 64)           4160      \n",
      "                                                                 \n",
      " dropout_4 (Dropout)         (None, 500, 64)           0         \n",
      "                                                                 \n",
      " flatten_2 (Flatten)         (None, 32000)             0         \n",
      "                                                                 \n",
      " dense_14 (Dense)            (None, 46)                1472046   \n",
      "                                                                 \n",
      "=================================================================\n",
      "Total params: 2,764,462\n",
      "Trainable params: 2,764,462\n",
      "Non-trainable params: 0\n",
      "_________________________________________________________________\n"
     ]
    }
   ],
   "source": [
    "model = Sequential()  \n",
    "model.add(Embedding(max_words, 128, input_length = maxlen))\n",
    "model.add(Dense(64, activation='relu'))\n",
    "model.add(Dense(64, activation='relu'))\n",
    "model.add(Dropout(0.5)) \n",
    "model.add(Flatten())\n",
    "model.add(Dense(46,activation='softmax')) \n",
    "\n",
    "model.summary()"
   ]
  },
  {
   "cell_type": "code",
   "execution_count": 39,
   "metadata": {},
   "outputs": [
    {
     "name": "stdout",
     "output_type": "stream",
     "text": [
      "Epoch 1/10\n",
      "281/281 [==============================] - 11s 38ms/step - loss: 1.8648 - acc: 0.5188 - val_loss: 1.6570 - val_acc: 0.5784\n",
      "Epoch 2/10\n",
      "281/281 [==============================] - 11s 38ms/step - loss: 1.4997 - acc: 0.6256 - val_loss: 1.5605 - val_acc: 0.6291\n",
      "Epoch 3/10\n",
      "281/281 [==============================] - 10s 36ms/step - loss: 1.3537 - acc: 0.6672 - val_loss: 1.5246 - val_acc: 0.6478\n",
      "Epoch 4/10\n",
      "281/281 [==============================] - 11s 37ms/step - loss: 1.2354 - acc: 0.6966 - val_loss: 1.4619 - val_acc: 0.6616\n",
      "Epoch 5/10\n",
      "281/281 [==============================] - 11s 38ms/step - loss: 1.1516 - acc: 0.7136 - val_loss: 1.4336 - val_acc: 0.6728\n",
      "Epoch 6/10\n",
      "281/281 [==============================] - 11s 38ms/step - loss: 1.0819 - acc: 0.7288 - val_loss: 1.4144 - val_acc: 0.6768\n",
      "Epoch 7/10\n",
      "281/281 [==============================] - 11s 39ms/step - loss: 1.0128 - acc: 0.7472 - val_loss: 1.4392 - val_acc: 0.6857\n",
      "Epoch 8/10\n",
      "281/281 [==============================] - 11s 40ms/step - loss: 0.9421 - acc: 0.7676 - val_loss: 1.4595 - val_acc: 0.6861\n",
      "Epoch 9/10\n",
      "281/281 [==============================] - 11s 38ms/step - loss: 0.8948 - acc: 0.7758 - val_loss: 1.4148 - val_acc: 0.6843\n",
      "Epoch 10/10\n",
      "281/281 [==============================] - 10s 36ms/step - loss: 0.8543 - acc: 0.7865 - val_loss: 1.4146 - val_acc: 0.6839\n"
     ]
    }
   ],
   "source": [
    "model.compile(loss='categorical_crossentropy',\n",
    "              optimizer='rmsprop',\n",
    "             metrics = ['acc'])\n",
    "\n",
    "history = model.fit(x_train,\n",
    "                    y_train,\n",
    "                    epochs=10,\n",
    "                    batch_size=32,\n",
    "                    validation_data=(x_test,y_test))"
   ]
  },
  {
   "cell_type": "code",
   "execution_count": 42,
   "metadata": {
    "id": "q4O-AeYVu26U"
   },
   "outputs": [
    {
     "data": {
      "image/png": "[encoded data removed]",
      "text/plain": [
       "<Figure size 432x288 with 1 Axes>"
      ]
     },
     "metadata": {
      "needs_background": "light"
     },
     "output_type": "display_data"
    },
    {
     "data": {
      "image/png": "[encoded data removed]",
      "text/plain": [
       "<Figure size 432x288 with 1 Axes>"
      ]
     },
     "metadata": {
      "needs_background": "light"
     },
     "output_type": "display_data"
    }
   ],
   "source": [
    "# TODO do you need to do early stopping? if so, train a new model with approperate number of epochs\n",
    "import matplotlib.pyplot as plt\n",
    "\n",
    "accuracy = history.history['acc']\n",
    "val_accuracy = history.history['val_acc']\n",
    "loss = history.history['loss']\n",
    "val_loss = history.history['val_loss']\n",
    "\n",
    "epochs = range(len(accuracy))\n",
    "\n",
    "plt.plot(epochs, accuracy, 'bo', label='Training acc')\n",
    "plt.plot(epochs, val_accuracy, 'b', label='Validation acc')\n",
    "plt.title('Training and validation accuracy')\n",
    "plt.legend()\n",
    "\n",
    "plt.figure()\n",
    "\n",
    "plt.plot(epochs, loss, 'bo', label='Training loss')\n",
    "plt.plot(epochs, val_loss, 'b', label='Validation loss')\n",
    "plt.title('Training and validation loss')\n",
    "plt.legend()\n",
    "\n",
    "plt.show()"
   ]
  },
  {
   "cell_type": "code",
   "execution_count": 43,
   "metadata": {},
   "outputs": [
    {
     "name": "stdout",
     "output_type": "stream",
     "text": [
      "Epoch 1/5\n",
      "281/281 [==============================] - 11s 36ms/step - loss: 1.8683 - acc: 0.5181 - val_loss: 1.6454 - val_acc: 0.5744\n",
      "Epoch 2/5\n",
      "281/281 [==============================] - 10s 35ms/step - loss: 1.5044 - acc: 0.6224 - val_loss: 1.5795 - val_acc: 0.6069\n",
      "Epoch 3/5\n",
      "281/281 [==============================] - 10s 35ms/step - loss: 1.3772 - acc: 0.6509 - val_loss: 1.5466 - val_acc: 0.6287\n",
      "Epoch 4/5\n",
      "281/281 [==============================] - 10s 35ms/step - loss: 1.2834 - acc: 0.6802 - val_loss: 1.4956 - val_acc: 0.6492\n",
      "Epoch 5/5\n",
      "281/281 [==============================] - 10s 35ms/step - loss: 1.1918 - acc: 0.6994 - val_loss: 1.4829 - val_acc: 0.6594\n"
     ]
    },
    {
     "data": {
      "text/plain": [
       "<keras.callbacks.History at 0x7fe740adcb80>"
      ]
     },
     "execution_count": 43,
     "metadata": {},
     "output_type": "execute_result"
    }
   ],
   "source": [
    "# adjust epochs to 5 to avoid overfitting\n",
    "model = Sequential()\n",
    "model.add(Embedding(max_words, 128, input_length = maxlen))\n",
    "model.add(Dense(64, activation='relu'))\n",
    "model.add(Dense(64, activation='relu'))\n",
    "model.add(Dropout(0.5)) \n",
    "model.add(Flatten())\n",
    "model.add(Dense(46,activation='softmax')) \n",
    "\n",
    "model.compile(\n",
    "    optimizer = \"rmsprop\",\n",
    "    loss = \"categorical_crossentropy\",\n",
    "    metrics = ['acc']\n",
    ")\n",
    "model.fit(x_train,\n",
    "          y_train,\n",
    "          epochs=5,\n",
    "          batch_size=32,\n",
    "          validation_data=(x_test,y_test))"
   ]
  },
  {
   "cell_type": "markdown",
   "metadata": {
    "id": "XOFS4Fk0_GAy"
   },
   "source": [
    "Report the test set performance of the fully connected model"
   ]
  },
  {
   "cell_type": "code",
   "execution_count": 44,
   "metadata": {
    "id": "B793JYiW_I3_"
   },
   "outputs": [
    {
     "name": "stdout",
     "output_type": "stream",
     "text": [
      "Model test loss: 1.4828919172286987\n",
      "Model test accuracy: 0.6593945026397705\n"
     ]
    }
   ],
   "source": [
    "# TODO evaluate fully connected model on test set\n",
    "results = model.evaluate(x_test,y_test,verbose=0)\n",
    "print(\"Model test loss:\",results[0])\n",
    "print(\"Model test accuracy:\",results[1])"
   ]
  },
  {
   "cell_type": "markdown",
   "metadata": {
    "id": "w9__yxAHUSrb"
   },
   "source": [
    "## Task 2: RNN and LSTM\n",
    "Now, we have a fully connected neural networks trained for prediction topics in Reuters data. In this task, we will swap out the fully connect layers and replace with both RNN and LSTM layers to compare their difference see if they can help improve the model performance over fully connected model."
   ]
  },
  {
   "cell_type": "markdown",
   "metadata": {
    "id": "IzOJ_4bde0Nn"
   },
   "source": [
    "### Single layer RNN model with 128 output units for 10 epochs"
   ]
  },
  {
   "cell_type": "code",
   "execution_count": 6,
   "metadata": {
    "id": "ODwr8V-JfAgX"
   },
   "outputs": [
    {
     "name": "stdout",
     "output_type": "stream",
     "text": [
      "Model: \"sequential_2\"\n",
      "_________________________________________________________________\n",
      " Layer (type)                Output Shape              Param #   \n",
      "=================================================================\n",
      " embedding (Embedding)       (None, None, 100)         1000000   \n",
      "                                                                 \n",
      " simple_rnn (SimpleRNN)      (None, 128)               29312     \n",
      "                                                                 \n",
      " dropout (Dropout)           (None, 128)               0         \n",
      "                                                                 \n",
      " dense (Dense)               (None, 46)                5934      \n",
      "                                                                 \n",
      "=================================================================\n",
      "Total params: 1,035,246\n",
      "Trainable params: 1,035,246\n",
      "Non-trainable params: 0\n",
      "_________________________________________________________________\n"
     ]
    }
   ],
   "source": [
    "#Train a RNN model\n",
    "from keras.layers.embeddings import Embedding\n",
    "from tensorflow.keras.layers import SimpleRNN\n",
    "from keras import layers\n",
    "\n",
    "model = Sequential()\n",
    "model.add(Embedding(max_words, 100))\n",
    "model.add(SimpleRNN(128))\n",
    "model.add(layers.Dropout(0.5))\n",
    "model.add(Dense(46, activation='softmax'))\n",
    "\n",
    "model.summary()"
   ]
  },
  {
   "cell_type": "code",
   "execution_count": 7,
   "metadata": {},
   "outputs": [
    {
     "name": "stdout",
     "output_type": "stream",
     "text": [
      "Epoch 1/10\n",
      "57/57 [==============================] - 16s 266ms/step - loss: 3.7184 - acc: 0.1846 - val_loss: 2.5762 - val_acc: 0.3450\n",
      "Epoch 2/10\n",
      "57/57 [==============================] - 14s 255ms/step - loss: 2.8336 - acc: 0.2974 - val_loss: 2.3910 - val_acc: 0.3651\n",
      "Epoch 3/10\n",
      "57/57 [==============================] - 14s 246ms/step - loss: 2.4419 - acc: 0.3814 - val_loss: 2.1628 - val_acc: 0.4741\n",
      "Epoch 4/10\n",
      "57/57 [==============================] - 14s 247ms/step - loss: 2.1411 - acc: 0.4750 - val_loss: 2.0218 - val_acc: 0.4964\n",
      "Epoch 5/10\n",
      "57/57 [==============================] - 14s 253ms/step - loss: 1.9148 - acc: 0.5184 - val_loss: 2.0139 - val_acc: 0.5198\n",
      "Epoch 6/10\n",
      "57/57 [==============================] - 14s 247ms/step - loss: 1.7472 - acc: 0.5574 - val_loss: 1.8550 - val_acc: 0.5392\n",
      "Epoch 7/10\n",
      "57/57 [==============================] - 15s 262ms/step - loss: 1.5314 - acc: 0.6230 - val_loss: 1.9364 - val_acc: 0.4964\n",
      "Epoch 8/10\n",
      "57/57 [==============================] - 16s 276ms/step - loss: 1.3809 - acc: 0.6598 - val_loss: 1.9017 - val_acc: 0.5342\n",
      "Epoch 9/10\n",
      "57/57 [==============================] - 16s 281ms/step - loss: 1.2095 - acc: 0.7049 - val_loss: 1.9212 - val_acc: 0.5225\n",
      "Epoch 10/10\n",
      "57/57 [==============================] - 16s 273ms/step - loss: 1.0463 - acc: 0.7495 - val_loss: 1.8763 - val_acc: 0.5448\n"
     ]
    }
   ],
   "source": [
    "model.compile(optimizer='rmsprop',\n",
    "              loss='categorical_crossentropy',\n",
    "              metrics=['acc'])\n",
    "history = model.fit(x_train, y_train,\n",
    "                    epochs=10,\n",
    "                    batch_size=128,\n",
    "                    validation_split=.2)"
   ]
  },
  {
   "cell_type": "code",
   "execution_count": 8,
   "metadata": {
    "id": "jvsQeWcuTlo-"
   },
   "outputs": [
    {
     "name": "stdout",
     "output_type": "stream",
     "text": [
      "Model test loss: 1.8771014213562012\n",
      "Model test accuracy: 0.5427426695823669\n"
     ]
    }
   ],
   "source": [
    "# TODO evaluate RNN model on test set\n",
    "results = model.evaluate(x_test,y_test,verbose=0)\n",
    "print(\"Model test loss:\",results[0])\n",
    "print(\"Model test accuracy:\",results[1])"
   ]
  },
  {
   "cell_type": "markdown",
   "metadata": {
    "id": "XAC47vVgejqi"
   },
   "source": [
    "### Signle layer LSTM model with 128 output units for 20 epochs"
   ]
  },
  {
   "cell_type": "code",
   "execution_count": 9,
   "metadata": {
    "id": "GnikVejC31UD"
   },
   "outputs": [
    {
     "name": "stdout",
     "output_type": "stream",
     "text": [
      "Epoch 1/20\n",
      "57/57 [==============================] - 48s 826ms/step - loss: 2.4814 - acc: 0.3555 - val_loss: 2.1015 - val_acc: 0.4786\n",
      "Epoch 2/20\n",
      "57/57 [==============================] - 54s 941ms/step - loss: 2.0821 - acc: 0.4695 - val_loss: 1.9865 - val_acc: 0.4780\n",
      "Epoch 3/20\n",
      "57/57 [==============================] - 53s 931ms/step - loss: 1.8937 - acc: 0.5068 - val_loss: 1.8636 - val_acc: 0.5147\n",
      "Epoch 4/20\n",
      "57/57 [==============================] - 53s 930ms/step - loss: 1.7443 - acc: 0.5428 - val_loss: 1.7008 - val_acc: 0.5626\n",
      "Epoch 5/20\n",
      "57/57 [==============================] - 53s 926ms/step - loss: 1.6074 - acc: 0.5827 - val_loss: 1.6015 - val_acc: 0.5865\n",
      "Epoch 6/20\n",
      "57/57 [==============================] - 52s 920ms/step - loss: 1.5146 - acc: 0.6026 - val_loss: 1.6287 - val_acc: 0.5676\n",
      "Epoch 7/20\n",
      "57/57 [==============================] - 53s 933ms/step - loss: 1.4159 - acc: 0.6257 - val_loss: 1.5336 - val_acc: 0.6082\n",
      "Epoch 8/20\n",
      "57/57 [==============================] - 54s 951ms/step - loss: 1.3019 - acc: 0.6522 - val_loss: 1.7886 - val_acc: 0.5921\n",
      "Epoch 9/20\n",
      "57/57 [==============================] - 53s 933ms/step - loss: 1.1991 - acc: 0.6811 - val_loss: 1.4021 - val_acc: 0.6394\n",
      "Epoch 10/20\n",
      "57/57 [==============================] - 54s 945ms/step - loss: 1.0763 - acc: 0.7136 - val_loss: 1.4458 - val_acc: 0.6249\n",
      "Epoch 11/20\n",
      "57/57 [==============================] - 53s 931ms/step - loss: 1.0177 - acc: 0.7326 - val_loss: 1.5914 - val_acc: 0.6349\n",
      "Epoch 12/20\n",
      "57/57 [==============================] - 53s 925ms/step - loss: 0.9283 - acc: 0.7557 - val_loss: 1.4564 - val_acc: 0.6422\n",
      "Epoch 13/20\n",
      "57/57 [==============================] - 54s 940ms/step - loss: 0.8598 - acc: 0.7744 - val_loss: 1.4313 - val_acc: 0.6283\n",
      "Epoch 14/20\n",
      "57/57 [==============================] - 53s 937ms/step - loss: 0.7844 - acc: 0.7911 - val_loss: 1.6363 - val_acc: 0.6227\n",
      "Epoch 15/20\n",
      "57/57 [==============================] - 53s 937ms/step - loss: 0.7253 - acc: 0.8099 - val_loss: 1.4381 - val_acc: 0.6633\n",
      "Epoch 16/20\n",
      "57/57 [==============================] - 53s 935ms/step - loss: 0.6585 - acc: 0.8266 - val_loss: 1.4306 - val_acc: 0.6789\n",
      "Epoch 17/20\n",
      "57/57 [==============================] - 53s 934ms/step - loss: 0.5998 - acc: 0.8448 - val_loss: 1.4874 - val_acc: 0.6756\n",
      "Epoch 18/20\n",
      "57/57 [==============================] - 54s 948ms/step - loss: 0.5494 - acc: 0.8550 - val_loss: 1.5039 - val_acc: 0.6739\n",
      "Epoch 19/20\n",
      "57/57 [==============================] - 53s 937ms/step - loss: 0.4953 - acc: 0.8693 - val_loss: 1.5254 - val_acc: 0.6889\n",
      "Epoch 20/20\n",
      "57/57 [==============================] - 55s 960ms/step - loss: 0.4468 - acc: 0.8841 - val_loss: 1.5175 - val_acc: 0.6934\n"
     ]
    }
   ],
   "source": [
    "# train a LSTM model\n",
    "from keras.models import Sequential\n",
    "from keras.layers.embeddings import Embedding\n",
    "from keras import layers\n",
    "from tensorflow.keras.optimizers import RMSprop\n",
    "\n",
    "model = Sequential()\n",
    "model.add(Embedding(max_words, 100))\n",
    "model.add(layers.LSTM(128, input_shape=(max_words,)))\n",
    "model.add(layers.Dense(46,activation='softmax'))\n",
    "\n",
    "model.compile(optimizer='rmsprop',\n",
    "              loss='categorical_crossentropy',\n",
    "              metrics=['acc'])\n",
    "\n",
    "history = model.fit(x_train, y_train,\n",
    "                    epochs=20,\n",
    "                    batch_size=128,\n",
    "                    validation_split=0.2)"
   ]
  },
  {
   "cell_type": "code",
   "execution_count": 18,
   "metadata": {
    "id": "YizClw0mUJvC"
   },
   "outputs": [
    {
     "name": "stdout",
     "output_type": "stream",
     "text": [
      "Model test loss: 2.1257805824279785\n",
      "Model test accuracy: 0.5013356804847717\n"
     ]
    }
   ],
   "source": [
    "# TODO evaluate LSTM model on test set\n",
    "results = model.evaluate(x_test,y_test,verbose=0)\n",
    "print(\"Model test loss:\",results[0])\n",
    "print(\"Model test accuracy:\",results[1])"
   ]
  },
  {
   "cell_type": "markdown",
   "metadata": {
    "id": "asCa299TUV7N"
   },
   "source": [
    "## Task 3: Use a Pre-trained Word Embedding\n",
    "\n",
    "In this task, instead of learning the word embedding layer from scratch, we apply a pre-trained word embedding layer and only use the classification base for reuters data. Please refer to the [API](https://keras.io/examples/nlp/pretrained_word_embeddings/#load-pretrained-word-embeddings) for loading glove-6B pretrained embedding.\n",
    "\n",
    "Build a **LSTM** model instead of CNN model showen in the API page. Only refer to the API for loading pretrained weights into embedding layer.\n",
    "\n",
    "Does the pre-trained word embedding help improve the model prediction?\n"
   ]
  },
  {
   "cell_type": "code",
   "execution_count": 22,
   "metadata": {
    "id": "MkQprFAyU-0g"
   },
   "outputs": [
    {
     "name": "stdout",
     "output_type": "stream",
     "text": [
      "--2022-06-08 04:16:57--  http://nlp.stanford.edu/data/glove.6B.zip\n",
      "Resolving nlp.stanford.edu... 171.64.67.140\n",
      "Connecting to nlp.stanford.edu|171.64.67.140|:80... connected.\n",
      "HTTP request sent, awaiting response... 302 Found\n",
      "Location: https://nlp.stanford.edu/data/glove.6B.zip [following]\n",
      "--2022-06-08 04:16:57--  https://nlp.stanford.edu/data/glove.6B.zip\n",
      "Connecting to nlp.stanford.edu|171.64.67.140|:443... connected.\n",
      "HTTP request sent, awaiting response... 301 Moved Permanently\n",
      "Location: http://downloads.cs.stanford.edu/nlp/data/glove.6B.zip [following]\n",
      "--2022-06-08 04:16:57--  http://downloads.cs.stanford.edu/nlp/data/glove.6B.zip\n",
      "Resolving downloads.cs.stanford.edu... 171.64.64.22\n",
      "Connecting to downloads.cs.stanford.edu|171.64.64.22|:80... connected.\n",
      "HTTP request sent, awaiting response... 200 OK\n",
      "Length: 862182613 (822M) [application/zip]\n",
      "Saving to: 'glove.6B.zip'\n",
      "\n",
      "glove.6B.zip        100%[===================>] 822.24M  4.72MB/s    in 2m 42s  \n",
      "\n",
      "2022-06-08 04:19:39 (5.08 MB/s) - 'glove.6B.zip' saved [862182613/862182613]\n",
      "\n"
     ]
    }
   ],
   "source": [
    "# TODO Train a LSTM model using pretrained embeddings\n",
    "!wget http://nlp.stanford.edu/data/glove.6B.zip\n",
    "!unzip -q glove.6B.zip"
   ]
  },
  {
   "cell_type": "code",
   "execution_count": 19,
   "metadata": {},
   "outputs": [
    {
     "name": "stdout",
     "output_type": "stream",
     "text": [
      "Found 400000 word vectors.\n"
     ]
    }
   ],
   "source": [
    "import os\n",
    "import numpy as np\n",
    "\n",
    "path_to_glove_file = os.path.join(\n",
    "    os.path.expanduser(\"~\"), \"Desktop/glove.6B.100d.txt\"\n",
    ")\n",
    "\n",
    "embeddings_index = {}\n",
    "with open(path_to_glove_file) as f:\n",
    "    for line in f:\n",
    "        word, coefs = line.split(maxsplit=1)\n",
    "        coefs = np.fromstring(coefs, \"f\", sep=\" \")\n",
    "        embeddings_index[word] = coefs\n",
    "\n",
    "print(\"Found %s word vectors.\" % len(embeddings_index))"
   ]
  },
  {
   "cell_type": "code",
   "execution_count": 20,
   "metadata": {},
   "outputs": [
    {
     "name": "stdout",
     "output_type": "stream",
     "text": [
      "Changed 24975 words (6004 misses)\n"
     ]
    }
   ],
   "source": [
    "num_tokens = len(word_index) + 2\n",
    "embedding_dim = 100\n",
    "hits = 0\n",
    "misses = 0\n",
    "# Prepare embedding matrix\n",
    "embedding_matrix = np.zeros((num_tokens, embedding_dim))\n",
    "for word, i in word_index.items():\n",
    "    embedding_vector = embeddings_index.get(word)\n",
    "    if embedding_vector is not None:\n",
    "        # words which cant be found in the embedding index will be all 0\n",
    "        # \"padding\" and \"OOV\"\n",
    "        embedding_matrix[i] = embedding_vector\n",
    "        hits += 1\n",
    "    else:\n",
    "        misses += 1\n",
    "print(\"Changed %d words (%d misses)\" % (hits, misses))"
   ]
  },
  {
   "cell_type": "code",
   "execution_count": 21,
   "metadata": {},
   "outputs": [
    {
     "name": "stdout",
     "output_type": "stream",
     "text": [
      "Model: \"sequential_6\"\n",
      "_________________________________________________________________\n",
      " Layer (type)                Output Shape              Param #   \n",
      "=================================================================\n",
      " embedding_3 (Embedding)     (None, None, 100)         3098100   \n",
      "                                                                 \n",
      " lstm_2 (LSTM)               (None, 128)               117248    \n",
      "                                                                 \n",
      " dense_3 (Dense)             (None, 46)                5934      \n",
      "                                                                 \n",
      "=================================================================\n",
      "Total params: 3,221,282\n",
      "Trainable params: 123,182\n",
      "Non-trainable params: 3,098,100\n",
      "_________________________________________________________________\n"
     ]
    }
   ],
   "source": [
    "from keras.layers import LSTM, Dropout\n",
    "from keras.initializers import Constant\n",
    "\n",
    "model = Sequential()\n",
    "model.add(Embedding(\n",
    "    num_tokens,\n",
    "    embedding_dim,\n",
    "    embeddings_initializer=Constant(embedding_matrix),\n",
    "    trainable=False,\n",
    "))\n",
    "model.add(LSTM(128))\n",
    "model.add(Dense(46, activation ='softmax'))\n",
    "model.summary()"
   ]
  },
  {
   "cell_type": "code",
   "execution_count": 22,
   "metadata": {},
   "outputs": [
    {
     "name": "stdout",
     "output_type": "stream",
     "text": [
      "Epoch 1/10\n",
      "57/57 [==============================] - 41s 684ms/step - loss: 2.4186 - acc: 0.3780 - val_loss: 2.3107 - val_acc: 0.4413\n",
      "Epoch 2/10\n",
      "57/57 [==============================] - 39s 680ms/step - loss: 2.2066 - acc: 0.4426 - val_loss: 3.6921 - val_acc: 0.3450\n",
      "Epoch 3/10\n",
      "57/57 [==============================] - 39s 692ms/step - loss: 2.1531 - acc: 0.4539 - val_loss: 2.0678 - val_acc: 0.4663\n",
      "Epoch 4/10\n",
      "57/57 [==============================] - 40s 708ms/step - loss: 2.0460 - acc: 0.4739 - val_loss: 2.0509 - val_acc: 0.4758\n",
      "Epoch 5/10\n",
      "57/57 [==============================] - 41s 726ms/step - loss: 1.9761 - acc: 0.4881 - val_loss: 2.0635 - val_acc: 0.4830\n",
      "Epoch 6/10\n",
      "57/57 [==============================] - 41s 712ms/step - loss: 1.8778 - acc: 0.5033 - val_loss: 1.8378 - val_acc: 0.5086\n",
      "Epoch 7/10\n",
      "57/57 [==============================] - 42s 731ms/step - loss: 1.8258 - acc: 0.5176 - val_loss: 1.8489 - val_acc: 0.5086\n",
      "Epoch 8/10\n",
      "57/57 [==============================] - 41s 723ms/step - loss: 1.7863 - acc: 0.5268 - val_loss: 1.8197 - val_acc: 0.4875\n",
      "Epoch 9/10\n",
      "57/57 [==============================] - 41s 715ms/step - loss: 1.7000 - acc: 0.5495 - val_loss: 1.8771 - val_acc: 0.4853\n",
      "Epoch 10/10\n",
      "57/57 [==============================] - 39s 685ms/step - loss: 1.6606 - acc: 0.5591 - val_loss: 1.8277 - val_acc: 0.4930\n"
     ]
    }
   ],
   "source": [
    "model.compile(optimizer=\"rmsprop\",\n",
    "              loss = \"categorical_crossentropy\",\n",
    "              metrics = ['acc'])\n",
    "\n",
    "history = model.fit(\n",
    "    x_train, \n",
    "    y_train,\n",
    "    epochs = 10,\n",
    "    batch_size=128,\n",
    "    validation_split =.2\n",
    ")"
   ]
  },
  {
   "cell_type": "code",
   "execution_count": 23,
   "metadata": {},
   "outputs": [
    {
     "data": {
      "image/png": "[encoded data removed]",
      "text/plain": [
       "<Figure size 432x288 with 1 Axes>"
      ]
     },
     "metadata": {
      "needs_background": "light"
     },
     "output_type": "display_data"
    },
    {
     "data": {
      "image/png": "[encoded data removed]",
      "text/plain": [
       "<Figure size 432x288 with 1 Axes>"
      ]
     },
     "metadata": {
      "needs_background": "light"
     },
     "output_type": "display_data"
    }
   ],
   "source": [
    "import matplotlib.pyplot as plt\n",
    "\n",
    "accuracy = history.history['acc']\n",
    "val_accuracy = history.history['val_acc']\n",
    "loss = history.history['loss']\n",
    "val_loss = history.history['val_loss']\n",
    "\n",
    "epochs = range(len(accuracy))\n",
    "\n",
    "plt.plot(epochs, accuracy, 'bo', label='Training acc')\n",
    "plt.plot(epochs, val_accuracy, 'b', label='Validation acc')\n",
    "plt.title('Training and validation accuracy')\n",
    "plt.legend()\n",
    "\n",
    "plt.figure()\n",
    "\n",
    "plt.plot(epochs, loss, 'bo', label='Training loss')\n",
    "plt.plot(epochs, val_loss, 'b', label='Validation loss')\n",
    "plt.title('Training and validation loss')\n",
    "plt.legend()\n",
    "\n",
    "plt.show()"
   ]
  },
  {
   "cell_type": "code",
   "execution_count": 24,
   "metadata": {},
   "outputs": [
    {
     "name": "stdout",
     "output_type": "stream",
     "text": [
      "Model test loss: 1.8289949893951416\n",
      "Model test accuracy: 0.4826357960700989\n"
     ]
    }
   ],
   "source": [
    "# TODO evaluate LSTM model on test set\n",
    "results = model.evaluate(x_test,y_test,verbose=0)\n",
    "print(\"Model test loss:\",results[0])\n",
    "print(\"Model test accuracy:\",results[1])"
   ]
  },
  {
   "cell_type": "code",
   "execution_count": null,
   "metadata": {},
   "outputs": [],
   "source": []
  }
 ],
 "metadata": {
  "accelerator": "GPU",
  "colab": {
   "collapsed_sections": [],
   "name": "MSIS549_HW3_RNN_Reuters.ipynb",
   "provenance": []
  },
  "kernelspec": {
   "display_name": "Python 3 (ipykernel)",
   "language": "python",
   "name": "python3"
  },
  "language_info": {
   "codemirror_mode": {
    "name": "ipython",
    "version": 3
   },
   "file_extension": ".py",
   "mimetype": "text/x-python",
   "name": "python",
   "nbconvert_exporter": "python",
   "pygments_lexer": "ipython3",
   "version": "3.9.7"
  }
 },
 "nbformat": 4,
 "nbformat_minor": 1
}
